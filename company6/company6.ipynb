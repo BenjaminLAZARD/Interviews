{
 "cells": [
  {
   "cell_type": "markdown",
   "metadata": {},
   "source": [
    "## Problem 1\n",
    "\n",
    "Compare $e^\\pi$ and $\\pi^e$\n",
    "\n",
    "## Solution 1\n",
    "\n",
    "Intuitively both expressions are approximatively $3^3$, yet $e \\approx 2.8$ and $\\pi \\approx 3.14$. Hence the exponential being usually faster than the product, $e^\\pi$ is probably bigger.\n",
    "\n",
    "Let us check whether $e^\\pi < \\pi^e$ is false.\n",
    "- 1st idea: use the logarithm in order to transform these exponentials into products and maybe use $len(e) = 1$ As both expressions are >1 and $ln \\nearrow \\in ]1, +\\infty[$ this won't change the direction of the inequality : $e^\\pi < \\pi^e \\implies ln\\left(e^\\pi\\right) < ln\\left(\\pi^e\\right) \\Leftrightarrow \\pi = \\pi ln(e) < e ln(\\pi)$\n",
    "- 2nd idea divide both terms by $e\\pi$. Since this is a positive number, it won't affect the direction of the <. this yields $\\frac{ln(e)}{e} < \\frac{ln(\\pi)}{\\pi}$. Is this true?\n",
    "- 3rd idea. Let us check whether $f : x \\rightarrow f(x) = \\frac{ln(x)}{x} \\nearrow R_+^*$ In order to do so we'll use formula $\\left(\\frac{f}{g}\\right)' = \\frac{f'g - g'f}{g^2}$ and compute $$f'(x) = \\frac{\\frac{1}{x} x - 1 * ln(x)}{x^2} = \\frac{1 - ln(x)}{x^2}$$. The denominator is >0 on $R_+^*$ and the numerator is < 0 on ]1,$+\\infty$[. Hence f is $\\searrow$ on ]1,$+\\infty$[ \n",
    "- Conclusion: as $1 < e<\\pi$ and f is $\\searrow$ on ]1,$+\\infty$[, $\\frac{len(e)}{e} > \\frac{len(\\pi)}{\\pi}$ and therefore $e^\\pi$ > $\\pi^e$ as ln and exp are growing on this range."
   ]
  },
  {
   "cell_type": "markdown",
   "metadata": {},
   "source": [
    "## Problem 2\n",
    "\n",
    "Assume I have stairs with n steps.\n",
    "At each turn I can take either a step or 2 steps.\n",
    "\n",
    "What are the number of possible series of turns I could take to reach the top?\n",
    "\n",
    "## Solution 2\n",
    "\n",
    "- For n = 0, there are no possibilities: $S = |\\{\\}| = 0$\n",
    "- For n = 1, I can only take a turn of 1 step: $S = |\\{[1]\\}| = 1$\n",
    "- For n = 2, I can either take a turn of 2 steps, or 2 turns of 1 step: $S = |\\{[2], [1,1]\\}| = 2$\n",
    "- For n = 3, I can either take 2 steps then 1, or 1 then 2 or 3 steps of 1: $S = |\\{[2, 1], [1,2], [1,1,1]\\}| = 3$\n",
    "\n",
    "Basically for n, I can either start with 1 step then use the results for a stair with (n-1) steps or take 2 steps and then use the results for a stair with (n-2) steps.\n",
    "This basically means $S_n = S_{n-1} + S_{n-2}$.\n",
    "\n",
    "One recognizes the fibonacci series."
   ]
  },
  {
   "cell_type": "markdown",
   "metadata": {},
   "source": [
    "## Problem 3\n",
    "\n",
    "Find $F_{10}$ and $F_{100}$ by coding the fibonacci algorithm in an efficient manner\n",
    "\n",
    "## Solution 3"
   ]
  },
  {
   "cell_type": "code",
   "execution_count": null,
   "metadata": {},
   "outputs": [],
   "source": [
    "# naive way (won't run for $F_{100}$ as it takes too long)\n",
    "\n",
    "def fibonacci(n:int)->int:\n",
    "    \"\"\"recursive fashion\"\"\"\n",
    "    if n == 0:\n",
    "        return 0\n",
    "    if n ==1:\n",
    "        return 1\n",
    "    return fibonacci(n-1) + fibonacci(n-2)"
   ]
  },
  {
   "cell_type": "markdown",
   "metadata": {},
   "source": [
    "Main issue here: multiple calls to the same n. For exemple fibonacci(98) gets called separately in both right terms in the expression fibonacci(100) = fibonacci(99) + fibonacci(98).\n",
    "And therefore numbers like fibonacci(10) get called really a lot with an exponential effect."
   ]
  },
  {
   "cell_type": "code",
   "execution_count": 1,
   "metadata": {},
   "outputs": [
    {
     "name": "stdout",
     "output_type": "stream",
     "text": [
      "55 354224848179261915075\n"
     ]
    }
   ],
   "source": [
    "# Array. We will remember past computed series terms in an array to access them in O(1)\n",
    "# this is the most efficient implementation, yet it involves specifying a max size\n",
    "# this is efficient only if the function gets called multiple times actually\n",
    "\n",
    "# Here we combine DP with the recursive approach\n",
    "\n",
    "MAX_SIZE = 200\n",
    "array = [-1]*MAX_SIZE\n",
    "array[0] = 0\n",
    "array[1] = 1\n",
    "def fibonacci(n:int)->int:\n",
    "    \"\"\"Dynamic Programing Fashion\"\"\"\n",
    "    if n < 2:\n",
    "        return array[n]\n",
    "    if array[n-1] != -1:\n",
    "        a = array[n-1]\n",
    "    else: \n",
    "        a = fibonacci(n-2) + fibonacci(n-3)\n",
    "    if array[n-2] != -1:\n",
    "        b = array[n-2]\n",
    "    else: \n",
    "        b = fibonacci(n-3) + fibonacci(n-4)\n",
    "    array[n] = a + b\n",
    "    return a + b\n",
    "    \n",
    "print(fibonacci(10), fibonacci(100))"
   ]
  },
  {
   "cell_type": "code",
   "execution_count": 3,
   "metadata": {},
   "outputs": [
    {
     "name": "stdout",
     "output_type": "stream",
     "text": [
      "55 354224848179261915075\n"
     ]
    }
   ],
   "source": [
    "# Intermediate approach in O(n)\n",
    "# Instead of a recursive approach, just remember the 2 last terms of the series always\n",
    "\n",
    "def fibonacci(n:int):\n",
    "    \"\"\"Last 2 terms fashion\"\"\"\n",
    "    a,b = [0,1]\n",
    "    if n == 0:\n",
    "        return 0\n",
    "    elif n == 1:\n",
    "        return 1\n",
    "    else:\n",
    "        for k in range(n-2+1):\n",
    "            a,b = b, a+b\n",
    "    return b\n",
    "\n",
    "print(fibonacci(10), fibonacci(100))"
   ]
  },
  {
   "cell_type": "markdown",
   "metadata": {},
   "source": [
    "Another interesting technique is the matricial approach. NB: combined with the array approach, this yields the most efficient implementation I know of.\n",
    "\n",
    "If we plant $X_n = \\begin{bmatrix}u_{n} \\\\ u_{n+1}\\end{bmatrix}$ then $$X_{n+1} =\\begin{bmatrix}u_{n+1} \\\\ u_{n+2}\\end{bmatrix} = \\begin{bmatrix} 0\\quad 1 \\\\ 1\\quad 1\\end{bmatrix} \\begin{bmatrix}u_{n} \\\\ u_{n+1}\\end{bmatrix}$$\n",
    "\n",
    "By recurrence we get \n",
    "$$X_n = {\\begin{bmatrix} 0\\quad 1 \\\\ 1\\quad 1\\end{bmatrix}}^n \\begin{bmatrix}u_{0} \\\\ u_{1}\\end{bmatrix} = {\\begin{bmatrix} 0\\quad 1 \\\\ 1\\quad 1\\end{bmatrix}}^n \\begin{bmatrix}0\\\\1\\end{bmatrix} $$\n",
    "\n",
    "Hence the whole problem can be planted as computing the power n of a 2x2 matrix.\n",
    "This can be done efficiently through dichotomy: if n is pair, then n=2p and we can compute $\\left(M^2\\right)^p$ else n=2p+1 $\\left(M^2\\right)^p M$ hence hinting towards an algorithm with complexity $O(log_2(n))$"
   ]
  },
  {
   "cell_type": "code",
   "execution_count": null,
   "metadata": {},
   "outputs": [],
   "source": [
    "# logarithmic fashion"
   ]
  }
 ],
 "metadata": {
  "kernelspec": {
   "display_name": "basic_code",
   "language": "python",
   "name": "python3"
  },
  "language_info": {
   "codemirror_mode": {
    "name": "ipython",
    "version": 3
   },
   "file_extension": ".py",
   "mimetype": "text/x-python",
   "name": "python",
   "nbconvert_exporter": "python",
   "pygments_lexer": "ipython3",
   "version": "3.10.13"
  }
 },
 "nbformat": 4,
 "nbformat_minor": 2
}
