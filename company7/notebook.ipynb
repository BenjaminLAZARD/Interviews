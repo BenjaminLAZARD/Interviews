{
 "cells": [
  {
   "cell_type": "markdown",
   "metadata": {},
   "source": [
    "# Context\n",
    "\n",
    "On veut modeliser un ascensceur.\n",
    "8 etages."
   ]
  },
  {
   "cell_type": "code",
   "execution_count": 1,
   "metadata": {},
   "outputs": [
    {
     "data": {
      "text/plain": [
       "[1, 2, 3, 4]"
      ]
     },
     "execution_count": 1,
     "metadata": {},
     "output_type": "execute_result"
    }
   ],
   "source": [
    "def optimize_minimum_distance_elevator(floor_list:list)->list:\n",
    "    return sorted(floor_list)\n",
    "\n",
    "optimize_minimum_distance_elevator([2,1,4,3])"
   ]
  },
  {
   "cell_type": "markdown",
   "metadata": {},
   "source": [
    "On suppose qu'on est au rdc.\n",
    "On a maintenant des etages negatifs"
   ]
  },
  {
   "cell_type": "code",
   "execution_count": 6,
   "metadata": {},
   "outputs": [
    {
     "name": "stdout",
     "output_type": "stream",
     "text": [
      "[1, 2, 3, 4]\n",
      "[-3, -5, -8]\n",
      "[-2, 4, 5]\n",
      "[1, 3, -4, -7]\n",
      "[3]\n"
     ]
    }
   ],
   "source": [
    "exp1 = [-2, 4, 5]\n",
    "exp2 = [-7, 1, -4, 3]\n",
    "\n",
    "def optimize_minimum_distance_elevator(floor_list:list)->list:\n",
    "    sorted_floor_list = sorted(floor_list)\n",
    "\n",
    "    min_floor, max_floor = floor_list[0], floor_list[-1]\n",
    "    if min_floor > 0 and max_floor > 0:\n",
    "        return sorted_floor_list\n",
    "    if min_floor < 0 and  max_floor < 0:\n",
    "        return sorted_floor_list[::-1]\n",
    "    \n",
    "    if abs(min_floor) > max_floor:\n",
    "        # d'abord je monte puis je descends\n",
    "        return [e for e in sorted_floor_list if e > 0] + [e for e in sorted_floor_list if e < 0][::-1]\n",
    "    else:\n",
    "        # d'abord je descends puis je monte\n",
    "        return [e for e in sorted_floor_list if e < 0][::-1] + [e for e in sorted_floor_list if e > 0]\n",
    "\n",
    "print(optimize_minimum_distance_elevator([2,1,4,3]))\n",
    "print(optimize_minimum_distance_elevator([-3,-5, -8]))\n",
    "print(optimize_minimum_distance_elevator(exp1))\n",
    "print(optimize_minimum_distance_elevator(exp2))\n",
    "print(optimize_minimum_distance_elevator([3]))"
   ]
  },
  {
   "cell_type": "markdown",
   "metadata": {},
   "source": [
    "On prendre le probleme, mais a present, on part de n'importe quel etage"
   ]
  },
  {
   "cell_type": "code",
   "execution_count": 8,
   "metadata": {},
   "outputs": [
    {
     "name": "stdout",
     "output_type": "stream",
     "text": [
      "[4, 5, -2]\n",
      "[5, 4, -2]\n",
      "[-2, 4, 5]\n"
     ]
    }
   ],
   "source": [
    "# On fait juste un changement de coordonnées en reprenant ce qu'on vvient de coder\n",
    "\n",
    "def optimize2(floor_list:list, initial_floor:int)->list:\n",
    "    return [f+initial_floor for f in optimize_minimum_distance_elevator([f-initial_floor for f in floor_list])]\n",
    "\n",
    "print(optimize2([-2, 4, 5], 3))\n",
    "print(optimize2([-2, 4, 5], 8))\n",
    "print(optimize2([-2, 4, 5], -8))"
   ]
  },
  {
   "cell_type": "markdown",
   "metadata": {},
   "source": [
    "a chaque fois qu'on rentre ou sort, la liste change"
   ]
  },
  {
   "cell_type": "code",
   "execution_count": null,
   "metadata": {},
   "outputs": [],
   "source": [
    "from random import choice\n",
    "class elevator:\n",
    "    def __init__(self, initial_floor:int, floor_list:list) -> None:\n",
    "        self.initial_floor = initial_floor\n",
    "        self.floor_list = floor_list\n",
    "\n",
    "    def add_floor_to_floor_list(self, new_floor:int):\n",
    "        #\n",
    "\n",
    "    def run(self):\n",
    "        #\n",
    "\n",
    "\n"
   ]
  }
 ],
 "metadata": {
  "kernelspec": {
   "display_name": "basic_code",
   "language": "python",
   "name": "python3"
  },
  "language_info": {
   "codemirror_mode": {
    "name": "ipython",
    "version": 3
   },
   "file_extension": ".py",
   "mimetype": "text/x-python",
   "name": "python",
   "nbconvert_exporter": "python",
   "pygments_lexer": "ipython3",
   "version": "3.10.13"
  }
 },
 "nbformat": 4,
 "nbformat_minor": 2
}
