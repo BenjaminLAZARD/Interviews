{
 "cells": [
  {
   "cell_type": "markdown",
   "metadata": {},
   "source": [
    "# Clustering ad campaigns\n",
    "\n",
    "Case available here\n",
    "\n",
    "## 1. Importing the dataset"
   ]
  },
  {
   "cell_type": "code",
   "execution_count": 1,
   "metadata": {},
   "outputs": [
    {
     "data": {
      "text/html": [
       "<div>\n",
       "<style scoped>\n",
       "    .dataframe tbody tr th:only-of-type {\n",
       "        vertical-align: middle;\n",
       "    }\n",
       "\n",
       "    .dataframe tbody tr th {\n",
       "        vertical-align: top;\n",
       "    }\n",
       "\n",
       "    .dataframe thead th {\n",
       "        text-align: right;\n",
       "    }\n",
       "</style>\n",
       "<table border=\"1\" class=\"dataframe\">\n",
       "  <thead>\n",
       "    <tr style=\"text-align: right;\">\n",
       "      <th></th>\n",
       "      <th>campaign_id</th>\n",
       "      <th>product_name</th>\n",
       "      <th>short_description</th>\n",
       "      <th>long_description</th>\n",
       "    </tr>\n",
       "  </thead>\n",
       "  <tbody>\n",
       "    <tr>\n",
       "      <th>0</th>\n",
       "      <td>51831d3f-cb5f-4ce1-94df-f56b7b9fea23</td>\n",
       "      <td>Beyond Body - Personalized Wellness Book</td>\n",
       "      <td>Embark on a personalized wellness journey with...</td>\n",
       "      <td>Beyond Body is more than just a wellness book,...</td>\n",
       "    </tr>\n",
       "    <tr>\n",
       "      <th>1</th>\n",
       "      <td>aff29b17-7d00-43a9-accc-28342c15faa0</td>\n",
       "      <td>Better In Person Dating App</td>\n",
       "      <td>Seeking creators to create UGC-style videos hi...</td>\n",
       "      <td>Better in Person is a dating app for intention...</td>\n",
       "    </tr>\n",
       "    <tr>\n",
       "      <th>2</th>\n",
       "      <td>bfe17c54-6a0b-4357-9c42-f2c47d647312</td>\n",
       "      <td>ISM</td>\n",
       "      <td>Play around with Ism Lens for that cool twist,...</td>\n",
       "      <td>Unlock the potential of your creativity with I...</td>\n",
       "    </tr>\n",
       "    <tr>\n",
       "      <th>3</th>\n",
       "      <td>b047aaef-f3ce-4758-84ea-784ee41026cf</td>\n",
       "      <td>Officiel QI Test</td>\n",
       "      <td>Promouvoir Officiel QI Test, un service de tes...</td>\n",
       "      <td>Dans cette campagne, nous voulons promouvoir O...</td>\n",
       "    </tr>\n",
       "    <tr>\n",
       "      <th>4</th>\n",
       "      <td>7ff00182-260c-44de-ac4a-068ce407e64c</td>\n",
       "      <td>Joko</td>\n",
       "      <td>Dans cette campagne on commence par un hook où...</td>\n",
       "      <td>Dans cette campagne on commence par un hook où...</td>\n",
       "    </tr>\n",
       "    <tr>\n",
       "      <th>...</th>\n",
       "      <td>...</td>\n",
       "      <td>...</td>\n",
       "      <td>...</td>\n",
       "      <td>...</td>\n",
       "    </tr>\n",
       "    <tr>\n",
       "      <th>701</th>\n",
       "      <td>ab45a400-995d-4a25-a92a-3d36f15e2226</td>\n",
       "      <td>GoTrendier México</td>\n",
       "      <td>Motiva a tus seguidores a vender sus prendas e...</td>\n",
       "      <td>GoTrendier Colombia busca creadores de conteni...</td>\n",
       "    </tr>\n",
       "    <tr>\n",
       "      <th>702</th>\n",
       "      <td>0be162b9-a5d0-43aa-a4a6-416d2d96ff6d</td>\n",
       "      <td>Be Fit: Gym &amp; At Home Workouts</td>\n",
       "      <td>Enhance your fitness journey with Be Fit, an a...</td>\n",
       "      <td>We're launching a new fitness app, Be Fit: Gym...</td>\n",
       "    </tr>\n",
       "    <tr>\n",
       "      <th>703</th>\n",
       "      <td>4ea06c4a-415c-4d91-ba5d-72600668c299</td>\n",
       "      <td>VoiceTasker</td>\n",
       "      <td>Experience task management like never before w...</td>\n",
       "      <td>The ad campaign seeks to promote VoiceTasker –...</td>\n",
       "    </tr>\n",
       "    <tr>\n",
       "      <th>704</th>\n",
       "      <td>982e4143-b50e-4d3a-baa0-9fb225a7aaba</td>\n",
       "      <td>Jelly Juice</td>\n",
       "      <td>Erfreuen Sie sich an Jelly Juice, einem zauber...</td>\n",
       "      <td>Jelly Juice DE ist ein unterhaltsames match-3-...</td>\n",
       "    </tr>\n",
       "    <tr>\n",
       "      <th>705</th>\n",
       "      <td>2476ad44-4d1d-4636-8b39-9da2af3aae28</td>\n",
       "      <td>AVA</td>\n",
       "      <td>Découvrez AVA, votre application de rencontre ...</td>\n",
       "      <td>AVA est une application de rencontre révolutio...</td>\n",
       "    </tr>\n",
       "  </tbody>\n",
       "</table>\n",
       "<p>706 rows × 4 columns</p>\n",
       "</div>"
      ],
      "text/plain": [
       "                              campaign_id  \\\n",
       "0    51831d3f-cb5f-4ce1-94df-f56b7b9fea23   \n",
       "1    aff29b17-7d00-43a9-accc-28342c15faa0   \n",
       "2    bfe17c54-6a0b-4357-9c42-f2c47d647312   \n",
       "3    b047aaef-f3ce-4758-84ea-784ee41026cf   \n",
       "4    7ff00182-260c-44de-ac4a-068ce407e64c   \n",
       "..                                    ...   \n",
       "701  ab45a400-995d-4a25-a92a-3d36f15e2226   \n",
       "702  0be162b9-a5d0-43aa-a4a6-416d2d96ff6d   \n",
       "703  4ea06c4a-415c-4d91-ba5d-72600668c299   \n",
       "704  982e4143-b50e-4d3a-baa0-9fb225a7aaba   \n",
       "705  2476ad44-4d1d-4636-8b39-9da2af3aae28   \n",
       "\n",
       "                                 product_name  \\\n",
       "0    Beyond Body - Personalized Wellness Book   \n",
       "1                 Better In Person Dating App   \n",
       "2                                         ISM   \n",
       "3                            Officiel QI Test   \n",
       "4                                        Joko   \n",
       "..                                        ...   \n",
       "701                         GoTrendier México   \n",
       "702            Be Fit: Gym & At Home Workouts   \n",
       "703                               VoiceTasker   \n",
       "704                               Jelly Juice   \n",
       "705                                       AVA   \n",
       "\n",
       "                                     short_description  \\\n",
       "0    Embark on a personalized wellness journey with...   \n",
       "1    Seeking creators to create UGC-style videos hi...   \n",
       "2    Play around with Ism Lens for that cool twist,...   \n",
       "3    Promouvoir Officiel QI Test, un service de tes...   \n",
       "4    Dans cette campagne on commence par un hook où...   \n",
       "..                                                 ...   \n",
       "701  Motiva a tus seguidores a vender sus prendas e...   \n",
       "702  Enhance your fitness journey with Be Fit, an a...   \n",
       "703  Experience task management like never before w...   \n",
       "704  Erfreuen Sie sich an Jelly Juice, einem zauber...   \n",
       "705  Découvrez AVA, votre application de rencontre ...   \n",
       "\n",
       "                                      long_description  \n",
       "0    Beyond Body is more than just a wellness book,...  \n",
       "1    Better in Person is a dating app for intention...  \n",
       "2    Unlock the potential of your creativity with I...  \n",
       "3    Dans cette campagne, nous voulons promouvoir O...  \n",
       "4    Dans cette campagne on commence par un hook où...  \n",
       "..                                                 ...  \n",
       "701  GoTrendier Colombia busca creadores de conteni...  \n",
       "702  We're launching a new fitness app, Be Fit: Gym...  \n",
       "703  The ad campaign seeks to promote VoiceTasker –...  \n",
       "704  Jelly Juice DE ist ein unterhaltsames match-3-...  \n",
       "705  AVA est une application de rencontre révolutio...  \n",
       "\n",
       "[706 rows x 4 columns]"
      ]
     },
     "execution_count": 1,
     "metadata": {},
     "output_type": "execute_result"
    }
   ],
   "source": [
    "import pandas as pd\n",
    "\n",
    "campaigns_df = pd.read_csv(\n",
    "    \"data/_SELECT_c_id_as_campaign_id_c_product_name_as_product_name_c_sho_202411281333.csv\"\n",
    ")\n",
    "campaigns_df"
   ]
  },
  {
   "cell_type": "markdown",
   "metadata": {},
   "source": [
    "Clearly, we can see that at least 3 different languages are being used here. Clustering based on techniques like TFIDF will therefore probably highlight first the language. We can start by translating them to english, and then clustering the topic"
   ]
  },
  {
   "cell_type": "code",
   "execution_count": 2,
   "metadata": {},
   "outputs": [],
   "source": [
    "import langdetect\n",
    "from langdetect import LangDetectException\n",
    "import numpy as np\n",
    "\n",
    "\n",
    "def detect_language(x: str):\n",
    "    out = np.nan\n",
    "    try:\n",
    "        out = langdetect.detect(x)\n",
    "    except LangDetectException:\n",
    "        ...\n",
    "    return out\n",
    "\n",
    "\n",
    "campaigns_df.loc[:, \"language\"] = campaigns_df.long_description.apply(detect_language)"
   ]
  },
  {
   "cell_type": "code",
   "execution_count": 3,
   "metadata": {},
   "outputs": [
    {
     "data": {
      "text/plain": [
       "language\n",
       "en    460\n",
       "fr    166\n",
       "de     24\n",
       "es     20\n",
       "pt     12\n",
       "ar      5\n",
       "it      4\n",
       "pl      4\n",
       "nl      2\n",
       "af      1\n",
       "ro      1\n",
       "et      1\n",
       "id      1\n",
       "so      1\n",
       "ja      1\n",
       "vi      1\n",
       "Name: count, dtype: int64"
      ]
     },
     "execution_count": 3,
     "metadata": {},
     "output_type": "execute_result"
    }
   ],
   "source": [
    "campaigns_df.language.value_counts()"
   ]
  },
  {
   "cell_type": "markdown",
   "metadata": {},
   "source": [
    "There seem to be roughly 5 main languages (English, French, German, Spanish, and Portuguese), the rest are either errors or severely underrepresented languages (<1% of the dataset)\n",
    "Let us remove these articles, and translate everything to english"
   ]
  },
  {
   "cell_type": "code",
   "execution_count": 4,
   "metadata": {},
   "outputs": [
    {
     "name": "stderr",
     "output_type": "stream",
     "text": [
      "C:\\Users\\benja\\AppData\\Local\\Temp\\ipykernel_23180\\3279295832.py:2: SettingWithCopyWarning: \n",
      "A value is trying to be set on a copy of a slice from a DataFrame.\n",
      "Try using .loc[row_indexer,col_indexer] = value instead\n",
      "\n",
      "See the caveats in the documentation: https://pandas.pydata.org/pandas-docs/stable/user_guide/indexing.html#returning-a-view-versus-a-copy\n",
      "  campaigns_df.loc[campaigns_df.language == \"en\", \"translated_desc\"] = campaigns_df.loc[campaigns_df.language == \"en\", \"long_description\"]\n"
     ]
    },
    {
     "data": {
      "text/html": [
       "<div>\n",
       "<style scoped>\n",
       "    .dataframe tbody tr th:only-of-type {\n",
       "        vertical-align: middle;\n",
       "    }\n",
       "\n",
       "    .dataframe tbody tr th {\n",
       "        vertical-align: top;\n",
       "    }\n",
       "\n",
       "    .dataframe thead th {\n",
       "        text-align: right;\n",
       "    }\n",
       "</style>\n",
       "<table border=\"1\" class=\"dataframe\">\n",
       "  <thead>\n",
       "    <tr style=\"text-align: right;\">\n",
       "      <th></th>\n",
       "      <th>campaign_id</th>\n",
       "      <th>product_name</th>\n",
       "      <th>short_description</th>\n",
       "      <th>long_description</th>\n",
       "      <th>language</th>\n",
       "      <th>translated_desc</th>\n",
       "    </tr>\n",
       "  </thead>\n",
       "  <tbody>\n",
       "    <tr>\n",
       "      <th>0</th>\n",
       "      <td>51831d3f-cb5f-4ce1-94df-f56b7b9fea23</td>\n",
       "      <td>Beyond Body - Personalized Wellness Book</td>\n",
       "      <td>Embark on a personalized wellness journey with...</td>\n",
       "      <td>Beyond Body is more than just a wellness book,...</td>\n",
       "      <td>en</td>\n",
       "      <td>Beyond Body is more than just a wellness book,...</td>\n",
       "    </tr>\n",
       "    <tr>\n",
       "      <th>1</th>\n",
       "      <td>aff29b17-7d00-43a9-accc-28342c15faa0</td>\n",
       "      <td>Better In Person Dating App</td>\n",
       "      <td>Seeking creators to create UGC-style videos hi...</td>\n",
       "      <td>Better in Person is a dating app for intention...</td>\n",
       "      <td>en</td>\n",
       "      <td>Better in Person is a dating app for intention...</td>\n",
       "    </tr>\n",
       "    <tr>\n",
       "      <th>2</th>\n",
       "      <td>bfe17c54-6a0b-4357-9c42-f2c47d647312</td>\n",
       "      <td>ISM</td>\n",
       "      <td>Play around with Ism Lens for that cool twist,...</td>\n",
       "      <td>Unlock the potential of your creativity with I...</td>\n",
       "      <td>en</td>\n",
       "      <td>Unlock the potential of your creativity with I...</td>\n",
       "    </tr>\n",
       "    <tr>\n",
       "      <th>3</th>\n",
       "      <td>b047aaef-f3ce-4758-84ea-784ee41026cf</td>\n",
       "      <td>Officiel QI Test</td>\n",
       "      <td>Promouvoir Officiel QI Test, un service de tes...</td>\n",
       "      <td>Dans cette campagne, nous voulons promouvoir O...</td>\n",
       "      <td>fr</td>\n",
       "      <td>NaN</td>\n",
       "    </tr>\n",
       "    <tr>\n",
       "      <th>4</th>\n",
       "      <td>7ff00182-260c-44de-ac4a-068ce407e64c</td>\n",
       "      <td>Joko</td>\n",
       "      <td>Dans cette campagne on commence par un hook où...</td>\n",
       "      <td>Dans cette campagne on commence par un hook où...</td>\n",
       "      <td>fr</td>\n",
       "      <td>NaN</td>\n",
       "    </tr>\n",
       "    <tr>\n",
       "      <th>...</th>\n",
       "      <td>...</td>\n",
       "      <td>...</td>\n",
       "      <td>...</td>\n",
       "      <td>...</td>\n",
       "      <td>...</td>\n",
       "      <td>...</td>\n",
       "    </tr>\n",
       "    <tr>\n",
       "      <th>701</th>\n",
       "      <td>ab45a400-995d-4a25-a92a-3d36f15e2226</td>\n",
       "      <td>GoTrendier México</td>\n",
       "      <td>Motiva a tus seguidores a vender sus prendas e...</td>\n",
       "      <td>GoTrendier Colombia busca creadores de conteni...</td>\n",
       "      <td>es</td>\n",
       "      <td>NaN</td>\n",
       "    </tr>\n",
       "    <tr>\n",
       "      <th>702</th>\n",
       "      <td>0be162b9-a5d0-43aa-a4a6-416d2d96ff6d</td>\n",
       "      <td>Be Fit: Gym &amp; At Home Workouts</td>\n",
       "      <td>Enhance your fitness journey with Be Fit, an a...</td>\n",
       "      <td>We're launching a new fitness app, Be Fit: Gym...</td>\n",
       "      <td>en</td>\n",
       "      <td>We're launching a new fitness app, Be Fit: Gym...</td>\n",
       "    </tr>\n",
       "    <tr>\n",
       "      <th>703</th>\n",
       "      <td>4ea06c4a-415c-4d91-ba5d-72600668c299</td>\n",
       "      <td>VoiceTasker</td>\n",
       "      <td>Experience task management like never before w...</td>\n",
       "      <td>The ad campaign seeks to promote VoiceTasker –...</td>\n",
       "      <td>en</td>\n",
       "      <td>The ad campaign seeks to promote VoiceTasker –...</td>\n",
       "    </tr>\n",
       "    <tr>\n",
       "      <th>704</th>\n",
       "      <td>982e4143-b50e-4d3a-baa0-9fb225a7aaba</td>\n",
       "      <td>Jelly Juice</td>\n",
       "      <td>Erfreuen Sie sich an Jelly Juice, einem zauber...</td>\n",
       "      <td>Jelly Juice DE ist ein unterhaltsames match-3-...</td>\n",
       "      <td>de</td>\n",
       "      <td>NaN</td>\n",
       "    </tr>\n",
       "    <tr>\n",
       "      <th>705</th>\n",
       "      <td>2476ad44-4d1d-4636-8b39-9da2af3aae28</td>\n",
       "      <td>AVA</td>\n",
       "      <td>Découvrez AVA, votre application de rencontre ...</td>\n",
       "      <td>AVA est une application de rencontre révolutio...</td>\n",
       "      <td>fr</td>\n",
       "      <td>NaN</td>\n",
       "    </tr>\n",
       "  </tbody>\n",
       "</table>\n",
       "<p>682 rows × 6 columns</p>\n",
       "</div>"
      ],
      "text/plain": [
       "                              campaign_id  \\\n",
       "0    51831d3f-cb5f-4ce1-94df-f56b7b9fea23   \n",
       "1    aff29b17-7d00-43a9-accc-28342c15faa0   \n",
       "2    bfe17c54-6a0b-4357-9c42-f2c47d647312   \n",
       "3    b047aaef-f3ce-4758-84ea-784ee41026cf   \n",
       "4    7ff00182-260c-44de-ac4a-068ce407e64c   \n",
       "..                                    ...   \n",
       "701  ab45a400-995d-4a25-a92a-3d36f15e2226   \n",
       "702  0be162b9-a5d0-43aa-a4a6-416d2d96ff6d   \n",
       "703  4ea06c4a-415c-4d91-ba5d-72600668c299   \n",
       "704  982e4143-b50e-4d3a-baa0-9fb225a7aaba   \n",
       "705  2476ad44-4d1d-4636-8b39-9da2af3aae28   \n",
       "\n",
       "                                 product_name  \\\n",
       "0    Beyond Body - Personalized Wellness Book   \n",
       "1                 Better In Person Dating App   \n",
       "2                                         ISM   \n",
       "3                            Officiel QI Test   \n",
       "4                                        Joko   \n",
       "..                                        ...   \n",
       "701                         GoTrendier México   \n",
       "702            Be Fit: Gym & At Home Workouts   \n",
       "703                               VoiceTasker   \n",
       "704                               Jelly Juice   \n",
       "705                                       AVA   \n",
       "\n",
       "                                     short_description  \\\n",
       "0    Embark on a personalized wellness journey with...   \n",
       "1    Seeking creators to create UGC-style videos hi...   \n",
       "2    Play around with Ism Lens for that cool twist,...   \n",
       "3    Promouvoir Officiel QI Test, un service de tes...   \n",
       "4    Dans cette campagne on commence par un hook où...   \n",
       "..                                                 ...   \n",
       "701  Motiva a tus seguidores a vender sus prendas e...   \n",
       "702  Enhance your fitness journey with Be Fit, an a...   \n",
       "703  Experience task management like never before w...   \n",
       "704  Erfreuen Sie sich an Jelly Juice, einem zauber...   \n",
       "705  Découvrez AVA, votre application de rencontre ...   \n",
       "\n",
       "                                      long_description language  \\\n",
       "0    Beyond Body is more than just a wellness book,...       en   \n",
       "1    Better in Person is a dating app for intention...       en   \n",
       "2    Unlock the potential of your creativity with I...       en   \n",
       "3    Dans cette campagne, nous voulons promouvoir O...       fr   \n",
       "4    Dans cette campagne on commence par un hook où...       fr   \n",
       "..                                                 ...      ...   \n",
       "701  GoTrendier Colombia busca creadores de conteni...       es   \n",
       "702  We're launching a new fitness app, Be Fit: Gym...       en   \n",
       "703  The ad campaign seeks to promote VoiceTasker –...       en   \n",
       "704  Jelly Juice DE ist ein unterhaltsames match-3-...       de   \n",
       "705  AVA est une application de rencontre révolutio...       fr   \n",
       "\n",
       "                                       translated_desc  \n",
       "0    Beyond Body is more than just a wellness book,...  \n",
       "1    Better in Person is a dating app for intention...  \n",
       "2    Unlock the potential of your creativity with I...  \n",
       "3                                                  NaN  \n",
       "4                                                  NaN  \n",
       "..                                                 ...  \n",
       "701                                                NaN  \n",
       "702  We're launching a new fitness app, Be Fit: Gym...  \n",
       "703  The ad campaign seeks to promote VoiceTasker –...  \n",
       "704                                                NaN  \n",
       "705                                                NaN  \n",
       "\n",
       "[682 rows x 6 columns]"
      ]
     },
     "execution_count": 4,
     "metadata": {},
     "output_type": "execute_result"
    }
   ],
   "source": [
    "campaigns_df = campaigns_df[campaigns_df.language.isin([\"en\", \"fr\", \"de\", \"es\", \"pt\"])]\n",
    "campaigns_df.loc[campaigns_df.language == \"en\", \"translated_desc\"] = campaigns_df.loc[\n",
    "    campaigns_df.language == \"en\", \"long_description\"\n",
    "]\n",
    "campaigns_df"
   ]
  },
  {
   "cell_type": "markdown",
   "metadata": {},
   "source": [
    "## 2. Translation"
   ]
  },
  {
   "cell_type": "code",
   "execution_count": 59,
   "metadata": {},
   "outputs": [
    {
     "name": "stdout",
     "output_type": "stream",
     "text": [
      "342748.0\n"
     ]
    },
    {
     "data": {
      "application/vnd.jupyter.widget-view+json": {
       "model_id": "28e87c07a0e84b5590e736407855d407",
       "version_major": 2,
       "version_minor": 0
      },
      "text/plain": [
       "  0%|          | 0/222 [00:00<?, ?it/s]"
      ]
     },
     "metadata": {},
     "output_type": "display_data"
    }
   ],
   "source": [
    "from deep_translator import GoogleTranslator\n",
    "from tqdm.notebook import tqdm\n",
    "\n",
    "# total number of charsr to translate\n",
    "print(float(campaigns_df.long_description.apply(len).sum()))\n",
    "\n",
    "translator = GoogleTranslator(source=\"auto\", target=\"en\")\n",
    "\n",
    "\n",
    "out = []\n",
    "for sentence in tqdm(\n",
    "    zip(\n",
    "        campaigns_df.loc[campaigns_df.language != \"en\", \"short_description\"].values,\n",
    "        campaigns_df.loc[campaigns_df.language != \"en\", \"long_description\"].values,\n",
    "        strict=False,\n",
    "    ),\n",
    "    total=campaigns_df.loc[campaigns_df.language != \"en\"].shape[0],\n",
    "):\n",
    "    out.append(\" \".join(translator.translate_batch(list(sentence), dest=\"en\")))\n",
    "campaigns_df.loc[campaigns_df.language != \"en\", \"translated_desc\"] = out\n",
    "# campaigns_df.loc[campaigns_df.language != \"en\", \"translated_desc\"] = campaigns_df[campaigns_df.language != \"en\"].apply(translate_row, axis=1)"
   ]
  },
  {
   "cell_type": "code",
   "execution_count": 61,
   "metadata": {},
   "outputs": [],
   "source": [
    "campaigns_df.to_parquet(\"data/campaigns_df.parquet\")"
   ]
  },
  {
   "cell_type": "markdown",
   "metadata": {},
   "source": [
    "## 3. TFIDF-based clustering\n",
    "\n",
    "Considering features for a ML models words that appear a lot in some documents, but not that much in the overall corpus."
   ]
  },
  {
   "cell_type": "code",
   "execution_count": 67,
   "metadata": {},
   "outputs": [
    {
     "name": "stdout",
     "output_type": "stream",
     "text": [
      "cluster\n",
      "-1    209\n",
      " 0     92\n",
      " 6     65\n",
      " 1     26\n",
      " 7     25\n",
      " 3     24\n",
      " 5     24\n",
      " 2     23\n",
      " 4     23\n",
      "Name: count, dtype: int64\n"
     ]
    }
   ],
   "source": [
    "from sklearn.cluster import HDBSCAN\n",
    "from sklearn.feature_extraction.text import TfidfVectorizer\n",
    "from sklearn.model_selection import train_test_split\n",
    "\n",
    "from src.model.preprocessing import extract_nouns_batch, remove_words_from_col\n",
    "\n",
    "\n",
    "campaign_df_train, campaign_df_test = train_test_split(\n",
    "    campaigns_df, train_size=0.75, test_size=0.15, random_state=42\n",
    ")\n",
    "\n",
    "vectorizer = TfidfVectorizer(\n",
    "    stop_words=\"english\", max_df=0.7, min_df=0.05, ngram_range=(1, 1)\n",
    ")\n",
    "\n",
    "\n",
    "preprocessed_col = pd.Series(\n",
    "    extract_nouns_batch(campaign_df_train.translated_desc), dtype=\"str\"\n",
    ")\n",
    "\n",
    "# handpicked keywords that are too generic to be in a cluster\n",
    "preprocessed_col = remove_words_from_col(\n",
    "    preprocessed_col,\n",
    "    [\n",
    "        \"campaign\",\n",
    "        \"users\",\n",
    "        \"video\",\n",
    "        \"app\",\n",
    "        \"wi\",\n",
    "        \"ll\",\n",
    "        \"th\",\n",
    "        \"new\",\n",
    "        \"eir\",\n",
    "        \"brief\",\n",
    "        \"foow\",\n",
    "        \"product\",\n",
    "        \"lication\",\n",
    "        \"product\",\n",
    "        # \"money\",\n",
    "        \"user\",\n",
    "        \"experience\",\n",
    "        # \"community\",\n",
    "        \"platform\",\n",
    "        \"world\",\n",
    "        \"fun\",\n",
    "        \"life\",\n",
    "        \"day\",\n",
    "        \"people\",\n",
    "        \"photos\",\n",
    "        \"goal\",\n",
    "    ],\n",
    ")\n",
    "X = vectorizer.fit_transform(preprocessed_col)\n",
    "\n",
    "dbscan = HDBSCAN(\n",
    "    metric=\"cosine\", min_cluster_size=20, cluster_selection_epsilon=0.25, alpha=1.0\n",
    ")  # Use cosine distance for text\n",
    "campaign_df_train.loc[:, \"cluster\"] = dbscan.fit_predict(X)\n",
    "\n",
    "print(campaign_df_train.cluster.value_counts())"
   ]
  },
  {
   "cell_type": "code",
   "execution_count": 68,
   "metadata": {},
   "outputs": [
    {
     "name": "stdout",
     "output_type": "stream",
     "text": [
      "-1 209 ['way', 'features', 'creators', 'space', 'fitness', 'journey', 'feature', 'community', 'style', 'media']\n",
      "0 92 ['way', 'time', 'style', 'space', 'money', 'media', 'journey', 'game', 'friends', 'fitness']\n",
      "1 26 ['way', 'time', 'style', 'space', 'money', 'media', 'journey', 'game', 'friends', 'fitness']\n",
      "2 23 ['ai', 'style', 'features', 'media', 'feature', 'friends', 'way', 'time', 'community', 'content']\n",
      "3 24 ['money', 'way', 'ai', 'time', 'creators', 'friends', 'fitness', 'style', 'space', 'media']\n",
      "4 23 ['time', 'features', 'money', 'game', 'way', 'style', 'space', 'media', 'journey', 'friends']\n",
      "5 24 ['content', 'time', 'creators', 'media', 'game', 'space', 'ai', 'way', 'style', 'money']\n",
      "6 65 ['game', 'friends', 'time', 'community', 'way', 'journey', 'style', 'feature', 'content', 'space']\n",
      "7 25 ['community', 'style', 'journey', 'ai', 'time', 'way', 'space', 'money', 'media', 'game']\n"
     ]
    }
   ],
   "source": [
    "terms = vectorizer.get_feature_names_out()\n",
    "top_n = 10\n",
    "for cluster_id in sorted(campaign_df_train.cluster.unique()):\n",
    "    cluster_X = X[campaign_df_train.cluster == cluster_id]\n",
    "    cluster_tfidf = cluster_X.mean(axis=0).A1\n",
    "    top_terms = sorted(zip(cluster_tfidf, terms), reverse=True)[:top_n]\n",
    "    print(cluster_id, cluster_X.shape[0], [e[1] for e in top_terms])"
   ]
  },
  {
   "cell_type": "code",
   "execution_count": 40,
   "metadata": {},
   "outputs": [
    {
     "data": {
      "text/plain": [
       "array(['access', 'ai', 'aims', 'aows', 'best', 'better', 'choose',\n",
       "       'community', 'content', 'create', 'creators', 'daily', 'day',\n",
       "       'designed', 'different', 'discover', 'download', 'easily', 'easy',\n",
       "       'em', 'engaging', 'enjoy', 'experience', 'ey', 'feature',\n",
       "       'features', 'feel', 'fitness', 'focus', 'free', 'friends', 'fun',\n",
       "       'game', 'goal', 'help', 'helps', 'highlight', 'join', 'journey',\n",
       "       'just', 'let', 'lication', 'life', 'like', 'live', 'looking',\n",
       "       'make', 'making', 'money', 'need', 'oer', 'offers', 'online',\n",
       "       'people', 'perfect', 'personal', 'personalized', 'photos',\n",
       "       'platform', 'product', 'promote', 'real', 'rough', 'safe', 'share',\n",
       "       'sharing', 'showcase', 'simple', 'social', 'space', 'start',\n",
       "       'tiktok', 'time', 'today', 'ultimate', 'unique', 'use', 'user',\n",
       "       'using', 'want', 'way', 'wheer', 'wi', 'world'], dtype=object)"
      ]
     },
     "execution_count": 40,
     "metadata": {},
     "output_type": "execute_result"
    }
   ],
   "source": [
    "terms"
   ]
  },
  {
   "cell_type": "markdown",
   "metadata": {},
   "source": [
    "The actual output is not very convincing: \n",
    "- first there is a huge number of items that could not be clustered\n",
    "- second, clusters found seem to greatly overlap in terms of key words and are therefore hard to interpret"
   ]
  },
  {
   "cell_type": "markdown",
   "metadata": {},
   "source": [
    "## 4. Using sentence-embeddings\n",
    "Another approach using embeddings this time would look like the following"
   ]
  },
  {
   "cell_type": "code",
   "execution_count": 39,
   "metadata": {},
   "outputs": [
    {
     "data": {
      "application/vnd.jupyter.widget-view+json": {
       "model_id": "b5df7c3994a8413ca29c94583cd94c83",
       "version_major": 2,
       "version_minor": 0
      },
      "text/plain": [
       "Batches:   0%|          | 0/16 [00:00<?, ?it/s]"
      ]
     },
     "metadata": {},
     "output_type": "display_data"
    },
    {
     "name": "stdout",
     "output_type": "stream",
     "text": [
      "cluster\n",
      "-1    406\n",
      " 5     22\n",
      " 2     18\n",
      " 4     18\n",
      " 1     17\n",
      " 3     17\n",
      " 0     13\n",
      "Name: count, dtype: int64\n"
     ]
    }
   ],
   "source": [
    "from sentence_transformers import SentenceTransformer\n",
    "\n",
    "model = SentenceTransformer(\"all-MiniLM-L6-v2\")\n",
    "embeddings = model.encode(\n",
    "    campaign_df_train.translated_desc.values, show_progress_bar=True\n",
    ")\n",
    "\n",
    "dbscan_e = HDBSCAN(\n",
    "    metric=\"cosine\", min_cluster_size=10, cluster_selection_epsilon=0.0, alpha=1.0\n",
    ")  # Use cosine distance for text\n",
    "campaign_df_train.loc[:, \"cluster\"] = dbscan_e.fit_predict(embeddings).astype(int)\n",
    "print(campaign_df_train.cluster.value_counts())"
   ]
  },
  {
   "cell_type": "code",
   "execution_count": 42,
   "metadata": {},
   "outputs": [],
   "source": [
    "import pickle\n",
    "\n",
    "with open(\"data/embeddings.pkl\", \"wb\") as file:\n",
    "    pickle.dump(embeddings, file)\n",
    "\n",
    "# with open(\"data/embeddings.pkl\", \"rb\") as file:\n",
    "#     embeddings = pickle.load(file)\n"
   ]
  },
  {
   "cell_type": "code",
   "execution_count": 70,
   "metadata": {},
   "outputs": [
    {
     "name": "stdout",
     "output_type": "stream",
     "text": [
      "Cluster -1: ['creators', 'fitness', 'just']\n",
      "Cluster 0: ['application', 'brief', 'create']\n",
      "Cluster 1: ['allianz', 'free', 'help']\n",
      "Cluster 2: ['ai', 'ava', 'create', 'dating']\n",
      "Cluster 3: ['allianz', 'auto', 'best', 'earn']\n",
      "Cluster 4: ['beauty', 'box', 'choose']\n",
      "Cluster 5: ['children', 'content', 'create']\n",
      "Cluster 6: ['experience', 'friends', 'fun', 'game']\n",
      "Cluster 7: ['ability', 'community', 'connect', 'join']\n"
     ]
    }
   ],
   "source": [
    "# Data inputs\n",
    "from src.model.train import generate_cluster_names\n",
    "\n",
    "sentences = campaign_df_train[\"translated_desc\"].to_numpy()\n",
    "clusters = campaign_df_train[\"cluster\"].to_numpy()\n",
    "\n",
    "\n",
    "# Generate cluster names\n",
    "cluster_names = generate_cluster_names(sentences, embeddings, clusters)\n",
    "\n",
    "# Display the names for each cluster\n",
    "for cluster_id, cluster_name in cluster_names.items():\n",
    "    print(f\"Cluster {cluster_id}: {cluster_name}\")"
   ]
  },
  {
   "cell_type": "markdown",
   "metadata": {},
   "source": [
    "Some topics emerge better: \"ai\", \"fitness\", \"auto\", \"beauty\", \"children\", \"game\", \"networking\". But it can only be used as a base as it does not look usable per se"
   ]
  },
  {
   "cell_type": "markdown",
   "metadata": {},
   "source": [
    "## As a conclusion clustering based on long description is not very convincing here.\n",
    "\n",
    "I would suggest actually clustering in practice by manually defining a set of clusters based on domain knowledge. Could be \"dating\", \"fitness\", \"auto\", \"beauty\", \"children\", \"game\", \"networking\", etc. Each with 10 examples (or ideally more).\n",
    "\n",
    "Then in order to classify any sentence, I would compute each man-defined cluster centroid, and measure the distance of the embedding of the sentence to the center of each cluster, and pick the shortest distance as the suggested cluster. If there is no clear winner, I would predict \"-1\" "
   ]
  }
 ],
 "metadata": {
  "kernelspec": {
   "display_name": "ramdam",
   "language": "python",
   "name": "python3"
  },
  "language_info": {
   "codemirror_mode": {
    "name": "ipython",
    "version": 3
   },
   "file_extension": ".py",
   "mimetype": "text/x-python",
   "name": "python",
   "nbconvert_exporter": "python",
   "pygments_lexer": "ipython3",
   "version": "3.12.8"
  }
 },
 "nbformat": 4,
 "nbformat_minor": 2
}
