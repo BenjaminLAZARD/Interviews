{
 "cells": [
  {
   "cell_type": "markdown",
   "metadata": {},
   "source": [
    "# QRT trials\n",
    "\n",
    "## Exercise 1: Max Profit\n",
    "\n",
    "Assume a trading strategy where we are given a list of events picked among the following list\n",
    "- BUY stock units\n",
    "- SELL stock units\n",
    "- CHANGE stock delta_price\n",
    "- QUERY\n",
    "\n",
    "I start with 0 stocks, then I can buy stocks at price p, or sell them.\n",
    "It is assumed that I dont short-sell (I sell only stocks that I have bought before, and maximum the total amount I own).\n",
    "A CHANGE implies that the stock increases or decreases by delta_price. Thus adapting the profit.\n",
    "A Query corresponds to the current profit given losses or profits of past BUY, SELL, CHANGE operations.\n",
    "\n",
    "The function should take as input a list of events of type List[str] where each str corresponds to something like \"BUY apple 20\", or \"CHANGE google -5\", etc.\n",
    "\n",
    "Here's an example\n",
    "\n",
    "| Operation       | Portfolio           | Profit |\n",
    "|-----------------|---------------------|--------|\n",
    "| BUY apple 20    | apple 20            | 0      |\n",
    "| BUY google 50   | apple 20, google 50 | 0      |\n",
    "| QUERY           |                     | 0      |\n",
    "| SELL apple 5    | apple 15, google 50 | 0      |\n",
    "| CHANGE google 5 | apple 15, google 50 | 250    |\n",
    "| CHANGE apple -2 | apple 15, google 50 | 220    |\n",
    "| QUERY           |                     | 220    |"
   ]
  },
  {
   "cell_type": "code",
   "execution_count": 1,
   "metadata": {},
   "outputs": [
    {
     "name": "stdout",
     "output_type": "stream",
     "text": [
      "['BUY', 'stock2', '2'] 0 {'stock2': 2.0}\n",
      "['BUY', 'stock1', '4'] 0 {'stock2': 2.0, 'stock1': 4.0}\n",
      "['CHANGE', 'stock2', '-8'] -16 {'stock2': 2.0, 'stock1': 4.0}\n",
      "['SELL', 'stock1', '2'] -16 {'stock2': 2.0, 'stock1': 2.0}\n",
      "['BUY', 'stock3', '3'] -16 {'stock2': 2.0, 'stock1': 2.0, 'stock3': 3.0}\n",
      "['QUERY'] -16 {'stock2': 2.0, 'stock1': 2.0, 'stock3': 3.0}\n"
     ]
    },
    {
     "data": {
      "text/plain": [
       "[-16]"
      ]
     },
     "execution_count": 1,
     "metadata": {},
     "output_type": "execute_result"
    }
   ],
   "source": [
    "def getNetProfit(events):\n",
    "    stock_values = {}  # {stock:value}\n",
    "    profit = 0\n",
    "    out = []\n",
    "\n",
    "    for event in events:\n",
    "        keywords = event.split(\" \")\n",
    "        action = keywords[0]\n",
    "        if action == \"BUY\":\n",
    "            stock, amount = keywords[1], float(keywords[2])\n",
    "            if stock in stock_values:\n",
    "                stock_values[stock] += amount\n",
    "            else:\n",
    "                stock_values[stock] = amount\n",
    "        if action == \"SELL\":\n",
    "            stock, amount = keywords[1], float(keywords[2])\n",
    "            stock_values[stock] -= amount  # that's assuming shorting is not possible\n",
    "        if action == \"CHANGE\":\n",
    "            stock, delta_price = keywords[1], float(keywords[2])\n",
    "            profit += int(delta_price * stock_values[stock])\n",
    "        if action == \"QUERY\":\n",
    "            out += [profit]\n",
    "        print(keywords, profit, stock_values)\n",
    "\n",
    "    return out\n",
    "\n",
    "\n",
    "events = [\n",
    "    \"BUY stock2 2\",\n",
    "    \"BUY stock1 4\",\n",
    "    \"CHANGE stock2 -8\",\n",
    "    \"SELL stock1 2\",\n",
    "    \"BUY stock3 3\",\n",
    "    \"QUERY\",\n",
    "]\n",
    "getNetProfit(events)"
   ]
  },
  {
   "cell_type": "markdown",
   "metadata": {},
   "source": [
    "## Exercise 2: Possible sales\n",
    "\n",
    "I have products identified by an id.\n",
    "For each product per month, I can receive goods and sell goods.\n",
    "I want to know if the schema is possible or not\n",
    "\n",
    "Given a pandas dataframe containing the following columns:\n",
    "- id: id of the product\n",
    "- date_added : date of the reception or sale\n",
    "- sizes: string containing the sizes of the elements sold or received separated by \"/\". It is assumed quantity is 1\n",
    "- type: whether it is \"Received\" or \"Sold\"\n",
    "\n",
    "Example:\n",
    "\n",
    "| id | date_added | type     | sizes |\n",
    "|----|------------|----------|-------|\n",
    "| 1  | 2016-02    | Received | 7/8/9 |\n",
    "| 1  | 2016-02    | Sold     | 7/8   |\n",
    "| 2  | 2016-03    | Received | 36/37 |\n",
    "\n",
    "In this example for ID 1, during the same month \"2016-02\", I receive 7/8/9 and sell 7/8. since 7 and 8 are part of what I received that particular ID seems possible.\n",
    "\n",
    "The function should tell me if the provided df shows a \"POSSIBLE\" or \"NOT POSSIBLE\" df."
   ]
  },
  {
   "cell_type": "code",
   "execution_count": 2,
   "metadata": {},
   "outputs": [
    {
     "data": {
      "text/html": [
       "<div>\n",
       "<style scoped>\n",
       "    .dataframe tbody tr th:only-of-type {\n",
       "        vertical-align: middle;\n",
       "    }\n",
       "\n",
       "    .dataframe tbody tr th {\n",
       "        vertical-align: top;\n",
       "    }\n",
       "\n",
       "    .dataframe thead th {\n",
       "        text-align: right;\n",
       "    }\n",
       "</style>\n",
       "<table border=\"1\" class=\"dataframe\">\n",
       "  <thead>\n",
       "    <tr style=\"text-align: right;\">\n",
       "      <th></th>\n",
       "      <th>id</th>\n",
       "      <th>date_added</th>\n",
       "      <th>type</th>\n",
       "      <th>sizes</th>\n",
       "    </tr>\n",
       "  </thead>\n",
       "  <tbody>\n",
       "    <tr>\n",
       "      <th>0</th>\n",
       "      <td>1</td>\n",
       "      <td>2016-02</td>\n",
       "      <td>Received</td>\n",
       "      <td>7/8/9</td>\n",
       "    </tr>\n",
       "    <tr>\n",
       "      <th>1</th>\n",
       "      <td>1</td>\n",
       "      <td>2016-02</td>\n",
       "      <td>Sold</td>\n",
       "      <td>8/9</td>\n",
       "    </tr>\n",
       "    <tr>\n",
       "      <th>2</th>\n",
       "      <td>2</td>\n",
       "      <td>2016-03</td>\n",
       "      <td>Received</td>\n",
       "      <td>36/37</td>\n",
       "    </tr>\n",
       "  </tbody>\n",
       "</table>\n",
       "</div>"
      ],
      "text/plain": [
       "   id date_added      type  sizes\n",
       "0   1    2016-02  Received  7/8/9\n",
       "1   1    2016-02      Sold    8/9\n",
       "2   2    2016-03  Received  36/37"
      ]
     },
     "execution_count": 2,
     "metadata": {},
     "output_type": "execute_result"
    }
   ],
   "source": [
    "import pandas as pd\n",
    "\n",
    "df = pd.DataFrame(\n",
    "    {\n",
    "        \"id\": [1, 1, 2],\n",
    "        \"date_added\": [\"2016-02\", \"2016-02\", \"2016-03\"],\n",
    "        \"type\": [\"Received\", \"Sold\", \"Received\"],\n",
    "        \"sizes\": [\"7/8/9\", \"8/9\", \"36/37\"],\n",
    "    }\n",
    ")\n",
    "df"
   ]
  },
  {
   "cell_type": "code",
   "execution_count": 3,
   "metadata": {},
   "outputs": [
    {
     "name": "stdout",
     "output_type": "stream",
     "text": [
      "   id date_added      type  sizes                sizes_list\n",
      "0   1    2016-02  Received  7/8/9  {'7': 1, '8': 1, '9': 1}\n",
      "1   1    2016-02      Sold    8/9          {'8': 1, '9': 1}\n",
      "2   2    2016-03  Received  36/37        {'36': 1, '37': 1} \n",
      "\n",
      "   id date_added      type  sizes                sizes_list\n",
      "0   1    2016-02  Received  7/8/9  {'7': 1, '8': 1, '9': 1}\n",
      "1   1    2016-02      Sold    8/9        {'8': -1, '9': -1}\n",
      "2   2    2016-03  Received  36/37        {'36': 1, '37': 1} \n",
      "\n",
      "   id date_added                sizes_list\n",
      "0   1    2016-02  {'8': 0, '9': 0, '7': 1}\n",
      "1   2    2016-03        {'36': 1, '37': 1} \n",
      "\n",
      "   id date_added sizes_list\n",
      "0   1    2016-02       True\n",
      "1   2    2016-03       True \n",
      "\n"
     ]
    },
    {
     "data": {
      "text/plain": [
       "'Possible'"
      ]
     },
     "execution_count": 3,
     "metadata": {},
     "output_type": "execute_result"
    }
   ],
   "source": [
    "from functools import reduce\n",
    "\n",
    "\n",
    "def list_to_dict(l: list[int], count: int = 1) -> dict[int, int]:\n",
    "    \"\"\"\n",
    "    Converts a list l to a dictionnary where list elements\n",
    "    are keys and value is \"count\"\n",
    "    \"\"\"\n",
    "    d = {}\n",
    "    for e in l:\n",
    "        d[e] = count\n",
    "    return d\n",
    "\n",
    "\n",
    "def inverse_dict_count(d: dict[int, int]) -> dict[int, int]:\n",
    "    \"\"\"\n",
    "    Return {key: -values}\n",
    "    \"\"\"\n",
    "    for key, value in d.items():\n",
    "        d[key] = -value\n",
    "    return d\n",
    "\n",
    "\n",
    "def merge_dicts(d1, d2):\n",
    "    \"\"\"\n",
    "    merges both dictionnaries with the following logic:\n",
    "    - if a key is in both dictionnary, the output value is the sum of both\n",
    "    - if a key is only in one dictionnary, the output value is the correspnding value\n",
    "    \"\"\"\n",
    "    merged_dict = {}\n",
    "\n",
    "    for key in set(d1) | set(d2):\n",
    "        merged_dict[key] = d1.get(key, 0) + d2.get(key, 0)\n",
    "\n",
    "    return merged_dict\n",
    "\n",
    "\n",
    "def custom_agg(series):\n",
    "    return reduce(merge_dicts, series)\n",
    "\n",
    "\n",
    "def validate_date(d):\n",
    "    \"\"\"\n",
    "    If a group has a negative value it means I sold more than I received\n",
    "    As a consequence the answer to the question \"is this possible?\" is False\n",
    "    for this particular id/date combo;\n",
    "    \"\"\"\n",
    "    for key, value in d.items():\n",
    "        if value < 0:\n",
    "            return False\n",
    "    return True\n",
    "\n",
    "\n",
    "def main_function(df):\n",
    "    # Convert strings with \"/\" to lists then dictionaries with values 1\n",
    "    df[\"sizes_list\"] = df.sizes.str.split(\"/\").map(lambda x: list_to_dict(x, 1))\n",
    "    print(df, \"\\n\")\n",
    "    # Convert values to -1 for sales\n",
    "    df.loc[df[\"type\"] == \"Sold\", \"sizes_list\"] = df.loc[\n",
    "        df[\"type\"] == \"Sold\", \"sizes_list\"\n",
    "    ].map(inverse_dict_count)\n",
    "    print(df, \"\\n\")\n",
    "    # Aggregate by item id and date by merging dictionaries\n",
    "    df = df.groupby(by=[\"id\", \"date_added\"], as_index=False).agg(\n",
    "        {\"sizes_list\": custom_agg}\n",
    "    )\n",
    "    print(df, \"\\n\")\n",
    "    # If any key in any dictionnary is < 0 then the order is not possible (more sales than receptionss)\n",
    "    df.loc[:, \"sizes_list\"] = df.sizes_list.map(validate_date)\n",
    "    print(df, \"\\n\")\n",
    "    return \"Possible\" if df.sizes_list.all() else \"Not Possible\"\n",
    "\n",
    "\n",
    "main_function(df)"
   ]
  },
  {
   "cell_type": "code",
   "execution_count": 4,
   "metadata": {},
   "outputs": [
    {
     "data": {
      "text/html": [
       "<div>\n",
       "<style scoped>\n",
       "    .dataframe tbody tr th:only-of-type {\n",
       "        vertical-align: middle;\n",
       "    }\n",
       "\n",
       "    .dataframe tbody tr th {\n",
       "        vertical-align: top;\n",
       "    }\n",
       "\n",
       "    .dataframe thead th {\n",
       "        text-align: right;\n",
       "    }\n",
       "</style>\n",
       "<table border=\"1\" class=\"dataframe\">\n",
       "  <thead>\n",
       "    <tr style=\"text-align: right;\">\n",
       "      <th></th>\n",
       "      <th>id</th>\n",
       "      <th>date_added</th>\n",
       "      <th>type</th>\n",
       "      <th>sizes</th>\n",
       "    </tr>\n",
       "  </thead>\n",
       "  <tbody>\n",
       "    <tr>\n",
       "      <th>0</th>\n",
       "      <td>1</td>\n",
       "      <td>2016-02</td>\n",
       "      <td>Received</td>\n",
       "      <td>7/8/9</td>\n",
       "    </tr>\n",
       "    <tr>\n",
       "      <th>1</th>\n",
       "      <td>1</td>\n",
       "      <td>2016-02</td>\n",
       "      <td>Sold</td>\n",
       "      <td>8/9/10</td>\n",
       "    </tr>\n",
       "    <tr>\n",
       "      <th>2</th>\n",
       "      <td>2</td>\n",
       "      <td>2016-03</td>\n",
       "      <td>Received</td>\n",
       "      <td>36/37</td>\n",
       "    </tr>\n",
       "  </tbody>\n",
       "</table>\n",
       "</div>"
      ],
      "text/plain": [
       "   id date_added      type   sizes\n",
       "0   1    2016-02  Received   7/8/9\n",
       "1   1    2016-02      Sold  8/9/10\n",
       "2   2    2016-03  Received   36/37"
      ]
     },
     "execution_count": 4,
     "metadata": {},
     "output_type": "execute_result"
    }
   ],
   "source": [
    "df = pd.DataFrame(\n",
    "    {\n",
    "        \"id\": [1, 1, 2],\n",
    "        \"date_added\": [\"2016-02\", \"2016-02\", \"2016-03\"],\n",
    "        \"type\": [\"Received\", \"Sold\", \"Received\"],\n",
    "        \"sizes\": [\"7/8/9\", \"8/9/10\", \"36/37\"],\n",
    "    }\n",
    ")\n",
    "df"
   ]
  },
  {
   "cell_type": "code",
   "execution_count": 5,
   "metadata": {},
   "outputs": [
    {
     "name": "stdout",
     "output_type": "stream",
     "text": [
      "   id date_added      type   sizes                 sizes_list\n",
      "0   1    2016-02  Received   7/8/9   {'7': 1, '8': 1, '9': 1}\n",
      "1   1    2016-02      Sold  8/9/10  {'8': 1, '9': 1, '10': 1}\n",
      "2   2    2016-03  Received   36/37         {'36': 1, '37': 1} \n",
      "\n",
      "   id date_added      type   sizes                    sizes_list\n",
      "0   1    2016-02  Received   7/8/9      {'7': 1, '8': 1, '9': 1}\n",
      "1   1    2016-02      Sold  8/9/10  {'8': -1, '9': -1, '10': -1}\n",
      "2   2    2016-03  Received   36/37            {'36': 1, '37': 1} \n",
      "\n",
      "   id date_added                          sizes_list\n",
      "0   1    2016-02  {'8': 0, '9': 0, '7': 1, '10': -1}\n",
      "1   2    2016-03                  {'36': 1, '37': 1} \n",
      "\n",
      "   id date_added sizes_list\n",
      "0   1    2016-02      False\n",
      "1   2    2016-03       True \n",
      "\n"
     ]
    },
    {
     "data": {
      "text/plain": [
       "'Not Possible'"
      ]
     },
     "execution_count": 5,
     "metadata": {},
     "output_type": "execute_result"
    }
   ],
   "source": [
    "main_function(df)"
   ]
  }
 ],
 "metadata": {
  "kernelspec": {
   "display_name": "basic_code",
   "language": "python",
   "name": "python3"
  },
  "language_info": {
   "codemirror_mode": {
    "name": "ipython",
    "version": 3
   },
   "file_extension": ".py",
   "mimetype": "text/x-python",
   "name": "python",
   "nbconvert_exporter": "python",
   "pygments_lexer": "ipython3",
   "version": "3.10.13"
  }
 },
 "nbformat": 4,
 "nbformat_minor": 2
}
