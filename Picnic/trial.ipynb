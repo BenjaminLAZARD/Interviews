{
 "cells": [
  {
   "cell_type": "markdown",
   "metadata": {},
   "source": [
    "## Fibonacci with a twist\n",
    "\n",
    "### Problem\n",
    "\n",
    "In this exercise we want to compute the nth term of the following sequence:\n",
    "- u_0 = 0, u_1 = 1\n",
    "- u_(n+1) is the sum of the digits of u_n and u_(n-1)\n",
    "as efficiently as possible.\n",
    "\n",
    "### Solution\n",
    "This exercise is very close to the Fibonacci expression. Cf this [GeekforGeek article](https://www.geeksforgeeks.org/program-for-nth-fibonacci-number/) on the matter.\n",
    "We decide to go for the dynamic programming approach where we successively store previous values to avoid recalculating them.\n",
    "The complexity is O(n)"
   ]
  },
  {
   "cell_type": "code",
   "execution_count": 3,
   "metadata": {},
   "outputs": [
    {
     "data": {
      "text/plain": [
       "(2, 12, 10)"
      ]
     },
     "execution_count": 3,
     "metadata": {},
     "output_type": "execute_result"
    }
   ],
   "source": [
    "def sum_of_digits(n:int)->int:\n",
    "    \"\"\"Computes the numerical value associated to the sum of the digits of n, expressed in base 10\"\"\"\n",
    "    total = 0\n",
    "    while n > 0:\n",
    "        total += n % 10\n",
    "        n //= 10\n",
    "    return total\n",
    "\n",
    "def solution(n):\n",
    "    \"\"\"Computes the nth therm of the sequence using DP\"\"\"\n",
    "    U = [0, 1]\n",
    "    if n <= 1:\n",
    "        return U[n]\n",
    "    else:\n",
    "        for i in range(2, n+1):\n",
    "            v = sum_of_digits(U[0]) + sum_of_digits(U[1])\n",
    "            U = [U[1], v]\n",
    "        return U[1]\n",
    "    \n",
    "solution(3), solution(8), solution(10)"
   ]
  },
  {
   "cell_type": "markdown",
   "metadata": {},
   "source": [
    "## Types of Candies\n",
    "### Problem\n",
    "Lea has a list of candies where each element is the \"ID\" of the candy (type of candy). For example l = [3,4,4,6,4,5], means that she has 3 candies of type 4, and one of type 3 5, and 6.\n",
    "She has to give half to her brother. The list is necessary such that len(l) is even. By doing so, she wants to keep the highest possible diversity of candies (so in that case she would give 2 candies of type 4 and 1 of any of the remaining types to maximize diversity)\n",
    "### Solution\n",
    "Lea basically has to know how many different types she has. then start from the type she has the most until 1 remains, then iterate. If they are all different at some point she can give any as long as she reaches the half of her candies.\n",
    "So in the end she can keep *min(len(l)/2, #candy types)* different because if she has fewer candy types than n/2, she can afford only that much diversity. On the contrary if she has more, she still has to give half to her brother."
   ]
  },
  {
   "cell_type": "code",
   "execution_count": 5,
   "metadata": {},
   "outputs": [
    {
     "data": {
      "text/plain": [
       "4"
      ]
     },
     "execution_count": 5,
     "metadata": {},
     "output_type": "execute_result"
    }
   ],
   "source": [
    "def solution(candies:list)->int:\n",
    "    assert len(candies)%2 == 0\n",
    "    unique_types = len(set(candies))\n",
    "    max_types = min(unique_types, len(candies) / 2)\n",
    "    return int(max_types)\n",
    "\n",
    "# Example usage:\n",
    "candies = [3, 4, 7,7, 6,6,6,6,6,6]\n",
    "solution(candies)"
   ]
  }
 ],
 "metadata": {
  "kernelspec": {
   "display_name": "basic_code",
   "language": "python",
   "name": "python3"
  },
  "language_info": {
   "codemirror_mode": {
    "name": "ipython",
    "version": 3
   },
   "file_extension": ".py",
   "mimetype": "text/x-python",
   "name": "python",
   "nbconvert_exporter": "python",
   "pygments_lexer": "ipython3",
   "version": "3.10.0"
  },
  "orig_nbformat": 4
 },
 "nbformat": 4,
 "nbformat_minor": 2
}
