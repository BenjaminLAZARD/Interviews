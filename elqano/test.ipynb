{
 "cells": [
  {
   "cell_type": "code",
   "execution_count": 5,
   "metadata": {},
   "outputs": [
    {
     "data": {
      "text/plain": [
       "(15, 15, 15)"
      ]
     },
     "execution_count": 5,
     "metadata": {},
     "output_type": "execute_result"
    }
   ],
   "source": [
    "# Problem 1\n",
    "# Write three functions that compute the sum of the numbers in a given list using a for-loop, a while-loop, and recursion. \n",
    "\n",
    "l =  [1,2,3,4,5]\n",
    "\n",
    "def for_func(l):\n",
    "    out = 0\n",
    "    for e in l:\n",
    "        out+= e\n",
    "    return out\n",
    "\n",
    "def while_func(l):\n",
    "    out = 0\n",
    "    i = 0\n",
    "    while i < len(l):\n",
    "        out += l[i]\n",
    "        i += 1\n",
    "    return out\n",
    "\n",
    "def recursion_func(l):\n",
    "    if len(l) == 0:\n",
    "        return 0\n",
    "    if len(l) == 1:\n",
    "        return l[0]\n",
    "    if len(l) > 0:\n",
    "        return recursion_func(l[:-1]) + recursion_func([l[-1]])\n",
    "    \n",
    "\n",
    "for_func(l), while_func(l), recursion_func(l)"
   ]
  },
  {
   "cell_type": "code",
   "execution_count": 9,
   "metadata": {},
   "outputs": [
    {
     "data": {
      "text/plain": [
       "['a', 1, 'b', 2, 'c', 3, 4, 5]"
      ]
     },
     "execution_count": 9,
     "metadata": {},
     "output_type": "execute_result"
    }
   ],
   "source": [
    "# Problem 2\n",
    "# Write a function that combines two lists by alternatingly taking elements. For example: given the two lists [a, b, c] and [1, 2, 3], the function should return [a, 1, b, 2, c, 3].\n",
    "l1 = [\"a\", \"b\", \"c\"]\n",
    "l2 = [1,2,3,4,5]\n",
    "\n",
    "def alternate(l1, l2):\n",
    "    out = []\n",
    "    while len(l1) > 0 and len(l2) > 0:\n",
    "        out += [l1.pop(0)]\n",
    "        out += [l2.pop(0)]\n",
    "    if len(l1) == 0:\n",
    "        out += l2\n",
    "    if len(l2) == 0:\n",
    "        out += l2\n",
    "    return out\n",
    "\n",
    "alternate(l1,l2)"
   ]
  },
  {
   "cell_type": "code",
   "execution_count": 13,
   "metadata": {},
   "outputs": [
    {
     "data": {
      "text/plain": [
       "[0,\n",
       " 1,\n",
       " 1,\n",
       " 2,\n",
       " 3,\n",
       " 5,\n",
       " 8,\n",
       " 13,\n",
       " 21,\n",
       " 34,\n",
       " 55,\n",
       " 89,\n",
       " 144,\n",
       " 233,\n",
       " 377,\n",
       " 610,\n",
       " 987,\n",
       " 1597,\n",
       " 2584,\n",
       " 4181,\n",
       " 6765,\n",
       " 10946]"
      ]
     },
     "execution_count": 13,
     "metadata": {},
     "output_type": "execute_result"
    }
   ],
   "source": [
    "# Problem 3\n",
    "# Write a function that computes the list of the first 100 Fibonacci numbers. By definition, the first two numbers in the Fibonacci sequence are 0 and 1, and each subsequent number is the sum of the previous two. As an example, here are the first 10 Fibonacci numbers: 0, 1, 1, 2, 3, 5, 8, 13, 21, and 34.\n",
    "\n",
    "def fibonacci_until(n):\n",
    "    u0 = 0\n",
    "    u1 = 1\n",
    "    out = [0, 1]\n",
    "    if n < 0:\n",
    "        return None\n",
    "    if n == 0:\n",
    "        return [u0]\n",
    "    if n == 1:\n",
    "        return [u0, u1]\n",
    "    if n > 1:\n",
    "        for i in range(1, n+1):\n",
    "            u0, u1 = u1, u0 + u1\n",
    "            out += [u1]\n",
    "    return out\n",
    "\n",
    "fibonacci_until(20)"
   ]
  },
  {
   "cell_type": "code",
   "execution_count": 39,
   "metadata": {},
   "outputs": [
    {
     "data": {
      "text/plain": [
       "(95021, 9999566)"
      ]
     },
     "execution_count": 39,
     "metadata": {},
     "output_type": "execute_result"
    }
   ],
   "source": [
    "# Problem 4\n",
    "# Write a function that given a list of non negative integers, arranges them such that they form the largest possible number. For example, given [50, 2, 1, 9], the largest formed number is 95021.\n",
    "l = [50, 2, 1, 9]\n",
    "l2 = [956, 99, 9, 6]\n",
    "\n",
    "# def arrange_largest(l):\n",
    "#     lexico_reverse = sorted([str(e) for e in l], reverse=True)\n",
    "#     print(lexico_reverse)\n",
    "#     return int(\"\".join(lexico_reverse))\n",
    "\n",
    "# arrange_largest(l), arrange_largest(l2) # does not work for l2 as the penultimate 9 should be at the begining\n",
    "\n",
    "def compare_func(a,b):\n",
    "    return (str(a) + str(b) > str(b) + str(a))\n",
    "\n",
    "def arrange_largest_custom_order(l):\n",
    "    l = [str(e) for e in l]\n",
    "    for i in range(len(l) - 1):\n",
    "        for j in range(i + 1, len(l)):\n",
    "            if compare_func(l[i], l[j]) > 0:\n",
    "                l[i], l[j] = l[j], l[i]\n",
    "    return int(\"\".join(l[::-1]))\n",
    "\n",
    "arrange_largest_custom_order(l),arrange_largest_custom_order(l2)"
   ]
  },
  {
   "cell_type": "code",
   "execution_count": 38,
   "metadata": {},
   "outputs": [
    {
     "data": {
      "text/plain": [
       "['1+2+3-4+5+6+78+9',\n",
       " '1+2+34-5+67-8+9',\n",
       " '1+23-4+5+6+78-9',\n",
       " '1+23-4+56+7+8+9',\n",
       " '12+3+4+5-6-7+89',\n",
       " '12+3-4+5+67+8+9',\n",
       " '12-3-4+5-6+7+89',\n",
       " '123+4-5+67-89',\n",
       " '123+45-67+8-9',\n",
       " '123-4-5-6-7+8-9',\n",
       " '123-45-67+89']"
      ]
     },
     "execution_count": 38,
     "metadata": {},
     "output_type": "execute_result"
    }
   ],
   "source": [
    "# Problem 5\n",
    "# Write a program that outputs all possibilities to put + or - or \"concatenate\" between the numbers |[1,9]|(in this order) such that the result is always 100.  For example: 1 + 2 + 34 – 5 + 67 – 8 + 9 = 100. Here between 3 and 4 the operator is \"concatenate\"\n",
    "def generate_operations(s, remaining_length, out):\n",
    "    if remaining_length ==0:\n",
    "        out.append(s)\n",
    "    else:\n",
    "        for char in \"+-c\":\n",
    "            generate_operations(s + char, remaining_length-1, out) \n",
    "\n",
    "def get_to_100():\n",
    "    out = []\n",
    "    valid_results = []\n",
    "    generate_operations(\"\", 8, out)\n",
    "    for operations in out:\n",
    "        l = \"123456789\"\n",
    "        calculus = \"\".join([l[i] + operations[i] for i in range(8)] + [l[-1]])\n",
    "        calculus = calculus.replace(\"c\", \"\")\n",
    "        if eval(calculus) == 100:\n",
    "            valid_results += [calculus]\n",
    "    return valid_results\n",
    "\n",
    "get_to_100()"
   ]
  }
 ],
 "metadata": {
  "kernelspec": {
   "display_name": "basic_code",
   "language": "python",
   "name": "python3"
  },
  "language_info": {
   "codemirror_mode": {
    "name": "ipython",
    "version": 3
   },
   "file_extension": ".py",
   "mimetype": "text/x-python",
   "name": "python",
   "nbconvert_exporter": "python",
   "pygments_lexer": "ipython3",
   "version": "3.10.13"
  }
 },
 "nbformat": 4,
 "nbformat_minor": 2
}
