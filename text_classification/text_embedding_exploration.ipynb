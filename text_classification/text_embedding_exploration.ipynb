{
 "cells": [
  {
   "cell_type": "code",
   "execution_count": 1,
   "metadata": {},
   "outputs": [
    {
     "name": "stdout",
     "output_type": "stream",
     "text": [
      "(607844, 23)\n"
     ]
    },
    {
     "data": {
      "text/html": [
       "<div>\n",
       "<style scoped>\n",
       "    .dataframe tbody tr th:only-of-type {\n",
       "        vertical-align: middle;\n",
       "    }\n",
       "\n",
       "    .dataframe tbody tr th {\n",
       "        vertical-align: top;\n",
       "    }\n",
       "\n",
       "    .dataframe thead th {\n",
       "        text-align: right;\n",
       "    }\n",
       "</style>\n",
       "<table border=\"1\" class=\"dataframe\">\n",
       "  <thead>\n",
       "    <tr style=\"text-align: right;\">\n",
       "      <th></th>\n",
       "      <th>query</th>\n",
       "      <th>url_page</th>\n",
       "      <th>title</th>\n",
       "      <th>source</th>\n",
       "      <th>alt</th>\n",
       "      <th>src</th>\n",
       "      <th>crossorigin</th>\n",
       "      <th>height</th>\n",
       "      <th>ismap</th>\n",
       "      <th>loading</th>\n",
       "      <th>...</th>\n",
       "      <th>srcset</th>\n",
       "      <th>width</th>\n",
       "      <th>class</th>\n",
       "      <th>style</th>\n",
       "      <th>tree_path</th>\n",
       "      <th>deg</th>\n",
       "      <th>text_tag</th>\n",
       "      <th>text</th>\n",
       "      <th>id</th>\n",
       "      <th>is_relevant</th>\n",
       "    </tr>\n",
       "  </thead>\n",
       "  <tbody>\n",
       "    <tr>\n",
       "      <th>0</th>\n",
       "      <td>011103093</td>\n",
       "      <td>https://bank-routing.org/011103093-td-bank-na-...</td>\n",
       "      <td>Routing Number 011103093 - TD Bank NA in LEWIS...</td>\n",
       "      <td>bank-routing.org</td>\n",
       "      <td>Bank Routing</td>\n",
       "      <td>https://bank-routing.org/img/logo.png</td>\n",
       "      <td>None</td>\n",
       "      <td>None</td>\n",
       "      <td>None</td>\n",
       "      <td>None</td>\n",
       "      <td>...</td>\n",
       "      <td>None</td>\n",
       "      <td>None</td>\n",
       "      <td>None</td>\n",
       "      <td>None</td>\n",
       "      <td>[a, div, nav, header, body, html]</td>\n",
       "      <td>2.0</td>\n",
       "      <td>div</td>\n",
       "      <td>Blog Contacts</td>\n",
       "      <td>3f5e067733178cc0f4b3a97cfc9c62e1</td>\n",
       "      <td>0</td>\n",
       "    </tr>\n",
       "    <tr>\n",
       "      <th>1</th>\n",
       "      <td>011103093</td>\n",
       "      <td>https://bank-routing.org/011103093-td-bank-na-...</td>\n",
       "      <td>Routing Number 011103093 - TD Bank NA in LEWIS...</td>\n",
       "      <td>bank-routing.org</td>\n",
       "      <td>011103093 routing number on TD Bank NA check</td>\n",
       "      <td>https://bank-routing.org/img/routing_numbers/r...</td>\n",
       "      <td>None</td>\n",
       "      <td>None</td>\n",
       "      <td>None</td>\n",
       "      <td>None</td>\n",
       "      <td>...</td>\n",
       "      <td>None</td>\n",
       "      <td>None</td>\n",
       "      <td>img-fluid</td>\n",
       "      <td>None</td>\n",
       "      <td>[div, div, div, main, main, body, html]</td>\n",
       "      <td>1.0</td>\n",
       "      <td>div</td>\n",
       "      <td>Aside from the SWIFT code which each bank is d...</td>\n",
       "      <td>fe64168fa7afeefa73708113c4bc2730</td>\n",
       "      <td>1</td>\n",
       "    </tr>\n",
       "    <tr>\n",
       "      <th>2</th>\n",
       "      <td>011103093</td>\n",
       "      <td>https://bank-routing.org/011103093-td-bank-na-...</td>\n",
       "      <td>Routing Number 011103093 - TD Bank NA in LEWIS...</td>\n",
       "      <td>bank-routing.org</td>\n",
       "      <td>DMCA.com Protection Status</td>\n",
       "      <td>https://images.dmca.com/Badges/dmca_protected_...</td>\n",
       "      <td>None</td>\n",
       "      <td>None</td>\n",
       "      <td>None</td>\n",
       "      <td>None</td>\n",
       "      <td>...</td>\n",
       "      <td>None</td>\n",
       "      <td>None</td>\n",
       "      <td>None</td>\n",
       "      <td>None</td>\n",
       "      <td>[a, p, div, div, div, footer, body, html]</td>\n",
       "      <td>NaN</td>\n",
       "      <td>None</td>\n",
       "      <td>None</td>\n",
       "      <td>5b5c3b6560ae158bf7ecd09f5ead1841</td>\n",
       "      <td>0</td>\n",
       "    </tr>\n",
       "    <tr>\n",
       "      <th>3</th>\n",
       "      <td>011103093</td>\n",
       "      <td>https://bank-routing.org/011103093-td-bank-na-...</td>\n",
       "      <td>Routing Number 011103093 - TD Bank NA in LEWIS...</td>\n",
       "      <td>bank-routing.org</td>\n",
       "      <td>Quantcast</td>\n",
       "      <td>https://pixel.quantserve.com/pixel/p-1meCEwxYU...</td>\n",
       "      <td>None</td>\n",
       "      <td>1</td>\n",
       "      <td>None</td>\n",
       "      <td>None</td>\n",
       "      <td>...</td>\n",
       "      <td>None</td>\n",
       "      <td>1</td>\n",
       "      <td>None</td>\n",
       "      <td>None</td>\n",
       "      <td>[div, noscript, body, html]</td>\n",
       "      <td>3.0</td>\n",
       "      <td>body</td>\n",
       "      <td>Blog Contacts Bank Routing Numbers -&gt; TD Bank ...</td>\n",
       "      <td>91fe71b49453d9037769b5a99c6f0856</td>\n",
       "      <td>0</td>\n",
       "    </tr>\n",
       "    <tr>\n",
       "      <th>4</th>\n",
       "      <td>011103093</td>\n",
       "      <td>https://www.gobankingrates.com/banking/banks/t...</td>\n",
       "      <td>TD Bank Routing Number in Connecticut: 2113705...</td>\n",
       "      <td>gobankingrates.com</td>\n",
       "      <td>Loading...</td>\n",
       "      <td>https://cdn.gobankingrates.com/wp-content/them...</td>\n",
       "      <td>None</td>\n",
       "      <td>None</td>\n",
       "      <td>None</td>\n",
       "      <td>None</td>\n",
       "      <td>...</td>\n",
       "      <td>None</td>\n",
       "      <td>None</td>\n",
       "      <td>None</td>\n",
       "      <td>None</td>\n",
       "      <td>[span, form, div, div, div, main, body, html]</td>\n",
       "      <td>2.0</td>\n",
       "      <td>form</td>\n",
       "      <td>Sign-Up Now Please enter an email. Please ente...</td>\n",
       "      <td>021b4f809739c93f6ff913ce7389a9c9</td>\n",
       "      <td>0</td>\n",
       "    </tr>\n",
       "  </tbody>\n",
       "</table>\n",
       "<p>5 rows × 23 columns</p>\n",
       "</div>"
      ],
      "text/plain": [
       "       query                                           url_page  \\\n",
       "0  011103093  https://bank-routing.org/011103093-td-bank-na-...   \n",
       "1  011103093  https://bank-routing.org/011103093-td-bank-na-...   \n",
       "2  011103093  https://bank-routing.org/011103093-td-bank-na-...   \n",
       "3  011103093  https://bank-routing.org/011103093-td-bank-na-...   \n",
       "4  011103093  https://www.gobankingrates.com/banking/banks/t...   \n",
       "\n",
       "                                               title              source  \\\n",
       "0  Routing Number 011103093 - TD Bank NA in LEWIS...    bank-routing.org   \n",
       "1  Routing Number 011103093 - TD Bank NA in LEWIS...    bank-routing.org   \n",
       "2  Routing Number 011103093 - TD Bank NA in LEWIS...    bank-routing.org   \n",
       "3  Routing Number 011103093 - TD Bank NA in LEWIS...    bank-routing.org   \n",
       "4  TD Bank Routing Number in Connecticut: 2113705...  gobankingrates.com   \n",
       "\n",
       "                                            alt  \\\n",
       "0                                  Bank Routing   \n",
       "1  011103093 routing number on TD Bank NA check   \n",
       "2                    DMCA.com Protection Status   \n",
       "3                                     Quantcast   \n",
       "4                                    Loading...   \n",
       "\n",
       "                                                 src crossorigin height ismap  \\\n",
       "0              https://bank-routing.org/img/logo.png        None   None  None   \n",
       "1  https://bank-routing.org/img/routing_numbers/r...        None   None  None   \n",
       "2  https://images.dmca.com/Badges/dmca_protected_...        None   None  None   \n",
       "3  https://pixel.quantserve.com/pixel/p-1meCEwxYU...        None      1  None   \n",
       "4  https://cdn.gobankingrates.com/wp-content/them...        None   None  None   \n",
       "\n",
       "  loading  ... srcset width      class style  \\\n",
       "0    None  ...   None  None       None  None   \n",
       "1    None  ...   None  None  img-fluid  None   \n",
       "2    None  ...   None  None       None  None   \n",
       "3    None  ...   None     1       None  None   \n",
       "4    None  ...   None  None       None  None   \n",
       "\n",
       "                                       tree_path  deg text_tag  \\\n",
       "0              [a, div, nav, header, body, html]  2.0      div   \n",
       "1        [div, div, div, main, main, body, html]  1.0      div   \n",
       "2      [a, p, div, div, div, footer, body, html]  NaN     None   \n",
       "3                    [div, noscript, body, html]  3.0     body   \n",
       "4  [span, form, div, div, div, main, body, html]  2.0     form   \n",
       "\n",
       "                                                text  \\\n",
       "0                                      Blog Contacts   \n",
       "1  Aside from the SWIFT code which each bank is d...   \n",
       "2                                               None   \n",
       "3  Blog Contacts Bank Routing Numbers -> TD Bank ...   \n",
       "4  Sign-Up Now Please enter an email. Please ente...   \n",
       "\n",
       "                                 id is_relevant  \n",
       "0  3f5e067733178cc0f4b3a97cfc9c62e1           0  \n",
       "1  fe64168fa7afeefa73708113c4bc2730           1  \n",
       "2  5b5c3b6560ae158bf7ecd09f5ead1841           0  \n",
       "3  91fe71b49453d9037769b5a99c6f0856           0  \n",
       "4  021b4f809739c93f6ff913ce7389a9c9           0  \n",
       "\n",
       "[5 rows x 23 columns]"
      ]
     },
     "execution_count": 1,
     "metadata": {},
     "output_type": "execute_result"
    }
   ],
   "source": [
    "import pandas as pd\n",
    "\n",
    "df = pd.read_feather(\"train.feather\")\n",
    "print(df.shape)\n",
    "df.head()"
   ]
  },
  {
   "cell_type": "code",
   "execution_count": null,
   "metadata": {},
   "outputs": [
    {
     "data": {
      "application/vnd.jupyter.widget-view+json": {
       "model_id": "b23b440e1cd14bdf885dd3d27569a405",
       "version_major": 2,
       "version_minor": 0
      },
      "text/plain": [
       "Batches:   0%|          | 0/313 [00:00<?, ?it/s]"
      ]
     },
     "metadata": {},
     "output_type": "display_data"
    },
    {
     "data": {
      "text/plain": [
       "torch.Size([10000, 384])"
      ]
     },
     "metadata": {},
     "output_type": "display_data"
    }
   ],
   "source": [
    "# trying out embedding (on local GPU)\n",
    "from sentence_transformers import SentenceTransformer\n",
    "model = SentenceTransformer('paraphrase-MiniLM-L6-v2', device=\"cuda\")\n",
    "sentences = df.url_page.values[:10000]\n",
    "embeddings = model.encode(sentences, show_progress_bar=True, convert_to_tensor=True, device=None)\n",
    "embeddings.shape"
   ]
  },
  {
   "cell_type": "code",
   "execution_count": null,
   "metadata": {},
   "outputs": [
    {
     "name": "stderr",
     "output_type": "stream",
     "text": [
      "[nltk_data] Downloading package wordnet to\n",
      "[nltk_data]     C:\\Users\\benja\\AppData\\Roaming\\nltk_data...\n",
      "[nltk_data]   Package wordnet is already up-to-date!\n"
     ]
    },
    {
     "data": {
      "text/plain": [
       "True"
      ]
     },
     "metadata": {},
     "output_type": "display_data"
    }
   ],
   "source": [
    "# now trying text preprocessing (since we want to encode URLs among others)\n",
    "import nltk\n",
    "nltk.download('wordnet')"
   ]
  },
  {
   "cell_type": "code",
   "execution_count": null,
   "metadata": {},
   "outputs": [
    {
     "name": "stdout",
     "output_type": "stream",
     "text": [
      "INFO: Pandarallel will run on 6 workers.\n",
      "INFO: Pandarallel will use standard multiprocessing data transfer (pipe) to transfer data between the main process and workers.\n",
      "\n",
      "WARNING: You are on Windows. If you detect any issue with pandarallel, be sure you checked out the Troubleshooting page:\n",
      "https://nalepae.github.io/pandarallel/troubleshooting/\n"
     ]
    },
    {
     "data": {
      "application/vnd.jupyter.widget-view+json": {
       "model_id": "3649457576fd43ce99aa9cae6dfc3449",
       "version_major": 2,
       "version_minor": 0
      },
      "text/plain": [
       "VBox(children=(HBox(children=(IntProgress(value=0, description='0.00%', max=101308), Label(value='0 / 101308')…"
      ]
     },
     "metadata": {},
     "output_type": "display_data"
    }
   ],
   "source": [
    "from pandarallel import pandarallel\n",
    "\n",
    "pandarallel.initialize(progress_bar=True)\n",
    "\n",
    "\n",
    "removable_parts = \"https:// http:// www com org\"\n",
    "\n",
    "\n",
    "def url_preprocessing(x: list[str]) -> np.array:\n",
    "    import numpy as np\n",
    "    from nltk.stem import WordNetLemmatizer\n",
    "\n",
    "    lemmatizer = WordNetLemmatizer()\n",
    "    if x is None:\n",
    "        return None\n",
    "    return \" \".join(\n",
    "        np.unique(\n",
    "            [lemmatizer.lemmatize(e).lower() for e in x if e not in (\"\") and len(e) > 2]\n",
    "        )\n",
    "    )\n",
    "\n",
    "\n",
    "tmp = df.url_page.str.split(\n",
    "    r\"\"\"{}\"\"\".format(\n",
    "        \"|\".join((removable_parts + \" \" + \"/ - \\. \\? \\+ : , ; & _\").split())\n",
    "    ),\n",
    "    regex=True,\n",
    ").parallel_apply(url_preprocessing)"
   ]
  },
  {
   "cell_type": "code",
   "execution_count": null,
   "metadata": {},
   "outputs": [
    {
     "name": "stdout",
     "output_type": "stream",
     "text": [
      "https://bank-routing.org/011103093-td-bank-na-routing-number 011103093 bank number routing\n",
      "https://bank-routing.org/011103093-td-bank-na-routing-number 011103093 bank number routing\n",
      "https://bank-routing.org/011103093-td-bank-na-routing-number 011103093 bank number routing\n",
      "https://bank-routing.org/011103093-td-bank-na-routing-number 011103093 bank number routing\n",
      "https://www.gobankingrates.com/banking/banks/td-bank-routing-number-connecticut/ bank banking connecticut gobankingrates number routing\n",
      "https://www.gobankingrates.com/banking/banks/td-bank-routing-number-connecticut/ bank banking connecticut gobankingrates number routing\n",
      "https://www.gobankingrates.com/banking/banks/td-bank-routing-number-connecticut/ bank banking connecticut gobankingrates number routing\n",
      "https://www.gobankingrates.com/banking/banks/td-bank-routing-number-connecticut/ bank banking connecticut gobankingrates number routing\n",
      "https://www.gobankingrates.com/banking/banks/td-bank-routing-number-connecticut/ bank banking connecticut gobankingrates number routing\n",
      "https://www.gobankingrates.com/banking/banks/td-bank-routing-number-connecticut/ bank banking connecticut gobankingrates number routing\n",
      "https://www.gobankingrates.com/banking/banks/td-bank-routing-number-connecticut/ bank banking connecticut gobankingrates number routing\n",
      "https://www.gobankingrates.com/banking/banks/td-bank-routing-number-connecticut/ bank banking connecticut gobankingrates number routing\n",
      "https://mybankdetail.com/routing-numbers/td-bank-na/011103093 011103093 bank mybankdetail number routing\n",
      "https://mybankdetail.com/routing-numbers/td-bank-na/011103093 011103093 bank mybankdetail number routing\n",
      "https://myfin.us/bank/td-bank/routing-number/ct bank myfin number routing\n",
      "https://myfin.us/bank/td-bank/routing-number/ct bank myfin number routing\n",
      "https://myfin.us/bank/td-bank/routing-number/ct bank myfin number routing\n",
      "https://myfin.us/bank/td-bank/routing-number/ct bank myfin number routing\n",
      "https://myfin.us/bank/td-bank/routing-number/ct bank myfin number routing\n",
      "https://www.alibaba.com/product-detail/Refurbish-TD-Bank-Routing-Number-011103093_1600183801714.html 011103093 1600183801714 alibaba bank detail html number product refurbish routing\n",
      "https://www.alibaba.com/product-detail/Refurbish-TD-Bank-Routing-Number-011103093_1600183801714.html 011103093 1600183801714 alibaba bank detail html number product refurbish routing\n",
      "https://www.alibaba.com/product-detail/Refurbish-TD-Bank-Routing-Number-011103093_1600183801714.html 011103093 1600183801714 alibaba bank detail html number product refurbish routing\n",
      "https://www.alibaba.com/product-detail/Refurbish-TD-Bank-Routing-Number-011103093_1600183801714.html 011103093 1600183801714 alibaba bank detail html number product refurbish routing\n",
      "https://www.alibaba.com/product-detail/Refurbish-TD-Bank-Routing-Number-011103093_1600183801714.html 011103093 1600183801714 alibaba bank detail html number product refurbish routing\n",
      "https://www.alibaba.com/product-detail/Refurbish-TD-Bank-Routing-Number-011103093_1600183801714.html 011103093 1600183801714 alibaba bank detail html number product refurbish routing\n",
      "https://www.alibaba.com/product-detail/Refurbish-TD-Bank-Routing-Number-011103093_1600183801714.html 011103093 1600183801714 alibaba bank detail html number product refurbish routing\n",
      "https://www.alibaba.com/product-detail/Refurbish-TD-Bank-Routing-Number-011103093_1600183801714.html 011103093 1600183801714 alibaba bank detail html number product refurbish routing\n",
      "https://todayaccounting.com/TD-Bank.html bank html todayaccounting\n",
      "https://todayaccounting.com/TD-Bank.html bank html todayaccounting\n",
      "https://todayaccounting.com/TD-Bank.html bank html todayaccounting\n"
     ]
    }
   ],
   "source": [
    "for i in range(30):\n",
    "    print(df.url_page[i], tmp[i])"
   ]
  },
  {
   "cell_type": "code",
   "execution_count": null,
   "metadata": {},
   "outputs": [
    {
     "data": {
      "application/vnd.jupyter.widget-view+json": {
       "model_id": "ff04cfeb5648428d87156f3041964354",
       "version_major": 2,
       "version_minor": 0
      },
      "text/plain": [
       "VBox(children=(HBox(children=(IntProgress(value=0, description='0.00%', max=101308), Label(value='0 / 101308')…"
      ]
     },
     "metadata": {},
     "output_type": "display_data"
    },
    {
     "data": {
      "text/plain": [
       "0                                              bank routing\n",
       "1              011103093 routing number on td bank na check\n",
       "2                                    protection status dmca\n",
       "3                                                 quantcast\n",
       "4                                                   loading\n",
       "                                ...                        \n",
       "607839                                robin zweibel picture\n",
       "607840                                                     \n",
       "607841                                                 None\n",
       "607842                                robin zweibel picture\n",
       "607843     2016 tribeca film festival robin zweibel 'the...\n",
       "Name: alt, Length: 607844, dtype: object"
      ]
     },
     "metadata": {},
     "output_type": "display_data"
    }
   ],
   "source": [
    "def url_preprocessing(x: list[str]) -> np.array:\n",
    "    import numpy as np\n",
    "    from nltk.stem import WordNetLemmatizer\n",
    "\n",
    "    lemmatizer = WordNetLemmatizer()\n",
    "    if x is None:\n",
    "        return None\n",
    "    return \" \".join(\n",
    "        np.unique(\n",
    "            [lemmatizer.lemmatize(e).lower() for e in x if e not in (\"\") and len(e) > 2]\n",
    "        )\n",
    "    )\n",
    "df.alt.str.split(\n",
    "    r\"\"\"{}\"\"\".format(\n",
    "        \"|\".join((removable_parts + \" \" + \"/ - \\. \\? \\+ : , ; & _\").split())\n",
    "    ),\n",
    "    regex=True,\n",
    ").parallel_apply(url_preprocessing)"
   ]
  },
  {
   "cell_type": "code",
   "execution_count": null,
   "metadata": {},
   "outputs": [
    {
     "data": {
      "text/plain": [
       "0                                     bank routing\n",
       "1     011103093 routing number on td bank na check\n",
       "2                           protection status dmca\n",
       "3                                        quantcast\n",
       "4                                          loading\n",
       "5                           td bank routing number\n",
       "6                              the gbr closer icon\n",
       "7                              untitled design (1)\n",
       "8                                      close popup\n",
       "9                                   gobankingrates\n",
       "10                                         zergnet\n",
       "11                            gobankingrates staff\n",
       "12                                      me (maine)\n",
       "13                                  my bank detail\n",
       "14                                         td bank\n",
       "15                                           myfin\n",
       "16                                           myfin\n",
       "17           td bank routing number in connecticut\n",
       "18                                                \n",
       "19                                           close\n",
       "20                                           image\n",
       "21                                          notice\n",
       "22                                            None\n",
       "23                                            None\n",
       "24                                      icon video\n",
       "Name: alt, dtype: object"
      ]
     },
     "metadata": {},
     "output_type": "display_data"
    }
   ],
   "source": [
    "df.alt[:25].str.split(\n",
    "    r\"\"\"{}\"\"\".format(\n",
    "        \"|\".join((removable_parts + \" \" + \"/ - \\. \\? \\+ : , ; & _\").split())\n",
    "    ),\n",
    "    regex=True,\n",
    ").apply(url_preprocessing)"
   ]
  },
  {
   "cell_type": "code",
   "execution_count": null,
   "metadata": {},
   "outputs": [
    {
     "data": {
      "text/plain": [
       "0                                         Blog Contacts\n",
       "1     Aside from the SWIFT code which each bank is d...\n",
       "2                                                  None\n",
       "3     Blog Contacts Bank Routing Numbers -> TD Bank ...\n",
       "4     Sign-Up Now Please enter an email. Please ente...\n",
       "5     Banking / Banks 011103093  TD Bank Routing Num...\n",
       "6     Sending you timely financial stories that you ...\n",
       "7     Sending you timely financial stories that you ...\n",
       "8     Sending you timely financial stories that you ...\n",
       "9                                                  None\n",
       "10                           Sponsored Links by Zergnet\n",
       "11                  By GOBankingRates Staff May 4, 2021\n",
       "12    011103093-TD Bank N.A. Routing Number Details ...\n",
       "13                                                 None\n",
       "14                                                  4.1\n",
       "15    Credit cards Compare Rewards Cash Back Balance...\n",
       "16                                                 None\n",
       "17    What is a routing number? A routing transit nu...\n",
       "18    Credit cards Compare Rewards Cash Back Balance...\n",
       "19    Note: Please be cautious and check with your s...\n",
       "20                                    View larger image\n",
       "21    Note: Please be cautious and check with your s...\n",
       "22                                       33010002000092\n",
       "23     1999-2021 Alibaba.com. All rights reserved.  ...\n",
       "24                                              Call us\n",
       "25                                    View larger image\n",
       "26                                    View larger image\n",
       "27    Instant Real-time Bill Payments Use your bank ...\n",
       "28    Fractional Routing Number Today Payments Conta...\n",
       "29    Want to know more about Real-Time Bill payment...\n",
       "Name: text, dtype: object"
      ]
     },
     "metadata": {},
     "output_type": "display_data"
    }
   ],
   "source": [
    "df[\"text\"].str.normalize('NFKD').str.encode('ascii', errors='ignore').str.decode('utf-8').head(30)"
   ]
  },
  {
   "cell_type": "code",
   "execution_count": null,
   "metadata": {},
   "outputs": [
    {
     "name": "stdout",
     "output_type": "stream",
     "text": [
      "Bank Routing\n",
      "011103093 routing number on TD Bank NA check\n",
      "DMCA.com Protection Status\n",
      "Quantcast\n",
      "Loading...\n",
      "TD Bank routing number\n",
      "The GBR Closer icon\n",
      "Untitled design (1)\n",
      "Close popup\n",
      "GOBankingRates\n",
      "Zergnet\n",
      "GOBankingRates Staff\n",
      "ME (MAINE)\n",
      "My Bank Detail\n",
      "TD Bank\n",
      "myfin.us\n",
      "myfin.us\n",
      "TD Bank routing number in Connecticut\n",
      "\n",
      "close\n",
      "image\n",
      "notice\n",
      "None\n",
      "None\n",
      "video-icon\n",
      "image\n",
      "image\n",
      "None\n",
      "None\n",
      "None\n",
      "hand shake\n",
      "Real-Time Bill Payments\n",
      "Real-Time Bill Payments\n",
      "Real-Time Online Bill Payments\n",
      "None\n",
      "None\n",
      "Download ACDSee Pro 4\n",
      "3 stars\n",
      "\n",
      "\n",
      "Review: Anker 10k hybrid wireless and portable charger, a stylish and versatile charger for around 30\n",
      "Wacom introduce affordable graphics tablet for Chromebook\n",
      "Be wary of Huawei's appalling warranties on their Nano memory cards\n",
      "ACDSee Pro 3 photo management software review\n",
      "half star\n",
      "\n",
      "\n",
      "\n",
      "\n",
      " alt=\n"
     ]
    }
   ],
   "source": [
    "for x in df[\"alt\"].str.normalize('NFKD').str.encode('ascii', errors='ignore').str.decode('utf-8').head(50):\n",
    "    print(x)"
   ]
  },
  {
   "cell_type": "code",
   "execution_count": null,
   "metadata": {},
   "outputs": [],
   "source": []
  }
 ],
 "metadata": {
  "kernelspec": {
   "display_name": "basic_code",
   "language": "python",
   "name": "python3"
  },
  "language_info": {
   "codemirror_mode": {
    "name": "ipython",
    "version": 3
   },
   "file_extension": ".py",
   "mimetype": "text/x-python",
   "name": "python",
   "nbconvert_exporter": "python",
   "pygments_lexer": "ipython3",
   "version": "3.10.0"
  }
 },
 "nbformat": 4,
 "nbformat_minor": 2
}
